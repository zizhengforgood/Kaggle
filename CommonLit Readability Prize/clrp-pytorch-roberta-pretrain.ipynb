{
 "cells": [
  {
   "cell_type": "markdown",
   "metadata": {},
   "source": [
    "https://uku28motab.feishu.cn/docs/doccnUDbEhudHm2V440lcY87B1c"
   ]
  },
  {
   "cell_type": "code",
   "execution_count": 5,
   "metadata": {
    "_cell_guid": "b1076dfc-b9ad-4769-8c92-a6c4dae69d19",
    "_uuid": "8f2839f25d086af736a60e9eeb907d3b93b6e0e5",
    "execution": {
     "iopub.execute_input": "2021-07-20T08:06:19.119444Z",
     "iopub.status.busy": "2021-07-20T08:06:19.119092Z",
     "iopub.status.idle": "2021-07-20T08:06:19.133619Z",
     "shell.execute_reply": "2021-07-20T08:06:19.131695Z",
     "shell.execute_reply.started": "2021-07-20T08:06:19.119415Z"
    }
   },
   "outputs": [],
   "source": [
    "# 导入相关的库文件\n",
    "import pandas as pd\n",
    "\n",
    "import warnings\n",
    "warnings.filterwarnings('ignore')\n",
    "\n",
    "from transformers import (AutoModel,AutoModelForMaskedLM, \n",
    "                          AutoTokenizer, LineByLineTextDataset,\n",
    "                          DataCollatorForLanguageModeling,\n",
    "                          Trainer, TrainingArguments)"
   ]
  },
  {
   "cell_type": "code",
   "execution_count": 6,
   "metadata": {
    "execution": {
     "iopub.execute_input": "2021-07-20T08:06:19.138232Z",
     "iopub.status.busy": "2021-07-20T08:06:19.137659Z",
     "iopub.status.idle": "2021-07-20T08:06:19.667186Z",
     "shell.execute_reply": "2021-07-20T08:06:19.666096Z",
     "shell.execute_reply.started": "2021-07-20T08:06:19.138164Z"
    }
   },
   "outputs": [],
   "source": [
    "# 输入训练数据\n",
    "train_data = pd.read_csv('../input/commonlitreadabilityprize/train.csv')\n",
    "test_data = pd.read_csv('../input/commonlitreadabilityprize/test.csv')\n",
    "# 合并读取训练和测试数据\n",
    "data = pd.concat([train_data,test_data])\n",
    "data['excerpt'] = data['excerpt'].apply(lambda x: x.replace('\\n',''))\n",
    "# 将文本转换成列表中\n",
    "text  = '\\n'.join(data.excerpt.tolist())\n",
    "\n",
    "with open('text.txt','w') as f:\n",
    "    f.write(text)"
   ]
  },
  {
   "cell_type": "code",
   "execution_count": 7,
   "metadata": {
    "execution": {
     "iopub.execute_input": "2021-07-20T08:06:19.669499Z",
     "iopub.status.busy": "2021-07-20T08:06:19.668959Z",
     "iopub.status.idle": "2021-07-20T08:06:31.381950Z",
     "shell.execute_reply": "2021-07-20T08:06:31.380922Z",
     "shell.execute_reply.started": "2021-07-20T08:06:19.669458Z"
    }
   },
   "outputs": [],
   "source": [
    "# 预训练模型\n",
    "model_name = 'roberta-base'\n",
    "model = AutoModelForMaskedLM.from_pretrained(model_name)\n",
    "tokenizer = AutoTokenizer.from_pretrained(model_name)\n",
    "tokenizer.save_pretrained('./clrp_roberta_base');"
   ]
  },
  {
   "cell_type": "code",
   "execution_count": 8,
   "metadata": {
    "execution": {
     "iopub.execute_input": "2021-07-20T08:06:31.383969Z",
     "iopub.status.busy": "2021-07-20T08:06:31.383619Z",
     "iopub.status.idle": "2021-07-20T08:06:37.369102Z",
     "shell.execute_reply": "2021-07-20T08:06:37.368013Z",
     "shell.execute_reply.started": "2021-07-20T08:06:31.383931Z"
    }
   },
   "outputs": [],
   "source": [
    "# 读取训练验证数据\n",
    "train_dataset = LineByLineTextDataset(\n",
    "    tokenizer=tokenizer,\n",
    "    file_path=\"text.txt\",\n",
    "    block_size=256)\n",
    "\n",
    "valid_dataset = LineByLineTextDataset(\n",
    "    tokenizer=tokenizer,\n",
    "    file_path=\"text.txt\", \n",
    "    block_size=256)\n",
    "\n",
    "data_collator = DataCollatorForLanguageModeling(\n",
    "    tokenizer=tokenizer, mlm=True, mlm_probability=0.15)\n",
    "\n",
    "# 预训练快速配置参数\n",
    "training_args = TrainingArguments(\n",
    "    output_dir=\"./checkpoints\", \n",
    "    overwrite_output_dir=True,\n",
    "    num_train_epochs=5,\n",
    "    per_device_train_batch_size=16,\n",
    "    per_device_eval_batch_size=16,\n",
    "    evaluation_strategy= 'steps',\n",
    "    save_total_limit=2,\n",
    "    eval_steps=200,\n",
    "    metric_for_best_model='eval_loss',\n",
    "    greater_is_better=False,\n",
    "    load_best_model_at_end =True,\n",
    "    prediction_loss_only=True,\n",
    "    report_to = \"none\")\n",
    "\n",
    "# 预训练模型训练\n",
    "trainer = Trainer(\n",
    "    model=model,\n",
    "    args=training_args,\n",
    "    data_collator=data_collator,\n",
    "    train_dataset=train_dataset,\n",
    "    eval_dataset=valid_dataset)"
   ]
  },
  {
   "cell_type": "code",
   "execution_count": 9,
   "metadata": {
    "execution": {
     "iopub.execute_input": "2021-07-20T08:06:37.376400Z",
     "iopub.status.busy": "2021-07-20T08:06:37.373682Z",
     "iopub.status.idle": "2021-07-20T08:20:23.784168Z",
     "shell.execute_reply": "2021-07-20T08:20:23.782908Z",
     "shell.execute_reply.started": "2021-07-20T08:06:37.376367Z"
    }
   },
   "outputs": [
    {
     "data": {
      "text/html": [
       "\n",
       "    <div>\n",
       "        <style>\n",
       "            /* Turns off some styling */\n",
       "            progress {\n",
       "                /* gets rid of default border in Firefox and Opera. */\n",
       "                border: none;\n",
       "                /* Needs to be in here for Safari polyfill so background images work as expected. */\n",
       "                background-size: auto;\n",
       "            }\n",
       "        </style>\n",
       "      \n",
       "      <progress value='890' max='890' style='width:300px; height:20px; vertical-align: middle;'></progress>\n",
       "      [890/890 13:43, Epoch 5/5]\n",
       "    </div>\n",
       "    <table border=\"1\" class=\"dataframe\">\n",
       "  <thead>\n",
       "    <tr style=\"text-align: left;\">\n",
       "      <th>Step</th>\n",
       "      <th>Training Loss</th>\n",
       "      <th>Validation Loss</th>\n",
       "      <th>Runtime</th>\n",
       "      <th>Samples Per Second</th>\n",
       "    </tr>\n",
       "  </thead>\n",
       "  <tbody>\n",
       "    <tr>\n",
       "      <td>200</td>\n",
       "      <td>No log</td>\n",
       "      <td>1.441347</td>\n",
       "      <td>31.975200</td>\n",
       "      <td>88.850000</td>\n",
       "    </tr>\n",
       "    <tr>\n",
       "      <td>400</td>\n",
       "      <td>No log</td>\n",
       "      <td>1.383025</td>\n",
       "      <td>32.022100</td>\n",
       "      <td>88.720000</td>\n",
       "    </tr>\n",
       "    <tr>\n",
       "      <td>600</td>\n",
       "      <td>1.550100</td>\n",
       "      <td>1.340914</td>\n",
       "      <td>32.056200</td>\n",
       "      <td>88.626000</td>\n",
       "    </tr>\n",
       "    <tr>\n",
       "      <td>800</td>\n",
       "      <td>1.550100</td>\n",
       "      <td>1.319844</td>\n",
       "      <td>32.092000</td>\n",
       "      <td>88.527000</td>\n",
       "    </tr>\n",
       "  </tbody>\n",
       "</table><p>"
      ],
      "text/plain": [
       "<IPython.core.display.HTML object>"
      ]
     },
     "metadata": {},
     "output_type": "display_data"
    }
   ],
   "source": [
    "trainer.train()\n",
    "trainer.save_model(f'./clrp_roberta_base')"
   ]
  }
 ],
 "metadata": {
  "kernelspec": {
   "display_name": "Python 3",
   "language": "python",
   "name": "python3"
  },
  "language_info": {
   "codemirror_mode": {
    "name": "ipython",
    "version": 3
   },
   "file_extension": ".py",
   "mimetype": "text/x-python",
   "name": "python",
   "nbconvert_exporter": "python",
   "pygments_lexer": "ipython3",
   "version": "3.8.5"
  }
 },
 "nbformat": 4,
 "nbformat_minor": 4
}
