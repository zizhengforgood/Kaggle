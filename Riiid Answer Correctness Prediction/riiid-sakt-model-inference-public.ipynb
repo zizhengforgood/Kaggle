{
 "cells": [
  {
   "cell_type": "code",
   "execution_count": 1,
   "metadata": {
    "_cell_guid": "b1076dfc-b9ad-4769-8c92-a6c4dae69d19",
    "_uuid": "8f2839f25d086af736a60e9eeb907d3b93b6e0e5",
    "execution": {
     "iopub.execute_input": "2021-01-07T07:31:01.909354Z",
     "iopub.status.busy": "2021-01-07T07:31:01.908786Z",
     "iopub.status.idle": "2021-01-07T07:31:03.774433Z",
     "shell.execute_reply": "2021-01-07T07:31:03.775102Z"
    },
    "papermill": {
     "duration": 1.907017,
     "end_time": "2021-01-07T07:31:03.775262",
     "exception": false,
     "start_time": "2021-01-07T07:31:01.868245",
     "status": "completed"
    },
    "tags": []
   },
   "outputs": [],
   "source": [
    "import riiideducation\n",
    "\n",
    "import pandas as pd\n",
    "import numpy as np\n",
    "from sklearn.metrics import roc_auc_score\n",
    "import psutil\n",
    "\n",
    "import gc\n",
    "from collections import defaultdict\n",
    "\n",
    "from tqdm.notebook import tqdm\n",
    "import psutil\n",
    "import joblib\n",
    "import copy\n",
    "\n",
    "import torch\n",
    "import torch.nn as nn\n",
    "import torch.nn.functional as F\n",
    "from torch.utils.data import Dataset, DataLoader"
   ]
  },
  {
   "cell_type": "code",
   "execution_count": 2,
   "metadata": {
    "execution": {
     "iopub.execute_input": "2021-01-07T07:31:03.845637Z",
     "iopub.status.busy": "2021-01-07T07:31:03.845045Z",
     "iopub.status.idle": "2021-01-07T07:31:36.570715Z",
     "shell.execute_reply": "2021-01-07T07:31:36.571488Z"
    },
    "papermill": {
     "duration": 32.763653,
     "end_time": "2021-01-07T07:31:36.571682",
     "exception": false,
     "start_time": "2021-01-07T07:31:03.808029",
     "status": "completed"
    },
    "tags": []
   },
   "outputs": [
    {
     "name": "stdout",
     "output_type": "stream",
     "text": [
      "CPU times: user 2.69 s, sys: 4.58 s, total: 7.27 s\n",
      "Wall time: 32.7 s\n"
     ]
    }
   ],
   "source": [
    "%%time\n",
    "\n",
    "feld_needed = ['timestamp','user_id','content_id', 'task_container_id','content_type_id', 'answered_correctly', 'prior_question_elapsed_time', 'prior_question_had_explanation']\n",
    "train = pd.read_pickle('../input/riiid-answer-correctness-prediction-files/train.pkl')\n",
    "train = train[feld_needed]\n",
    "question = pd.read_csv('../input/riiid-test-answer-prediction/questions.csv')"
   ]
  },
  {
   "cell_type": "code",
   "execution_count": 3,
   "metadata": {
    "execution": {
     "iopub.execute_input": "2021-01-07T07:31:36.694208Z",
     "iopub.status.busy": "2021-01-07T07:31:36.693331Z",
     "iopub.status.idle": "2021-01-07T07:31:36.797477Z",
     "shell.execute_reply": "2021-01-07T07:31:36.796959Z"
    },
    "papermill": {
     "duration": 0.170861,
     "end_time": "2021-01-07T07:31:36.797590",
     "exception": false,
     "start_time": "2021-01-07T07:31:36.626729",
     "status": "completed"
    },
    "tags": []
   },
   "outputs": [],
   "source": [
    "question_cmnts = pd.read_csv('../input/mydata/archive/archive/question_cmnts.csv')\n",
    "_ = gc.collect()"
   ]
  },
  {
   "cell_type": "code",
   "execution_count": 4,
   "metadata": {
    "execution": {
     "iopub.execute_input": "2021-01-07T07:31:36.882519Z",
     "iopub.status.busy": "2021-01-07T07:31:36.881578Z",
     "iopub.status.idle": "2021-01-07T07:31:46.100888Z",
     "shell.execute_reply": "2021-01-07T07:31:46.096018Z"
    },
    "papermill": {
     "duration": 9.270677,
     "end_time": "2021-01-07T07:31:46.101032",
     "exception": false,
     "start_time": "2021-01-07T07:31:36.830355",
     "status": "completed"
    },
    "tags": []
   },
   "outputs": [],
   "source": [
    "train = train.loc[train.content_type_id == False].reset_index(drop=True)"
   ]
  },
  {
   "cell_type": "code",
   "execution_count": 5,
   "metadata": {
    "execution": {
     "iopub.execute_input": "2021-01-07T07:31:46.182714Z",
     "iopub.status.busy": "2021-01-07T07:31:46.181651Z",
     "iopub.status.idle": "2021-01-07T07:31:51.712738Z",
     "shell.execute_reply": "2021-01-07T07:31:51.708836Z"
    },
    "papermill": {
     "duration": 5.571272,
     "end_time": "2021-01-07T07:31:51.712848",
     "exception": false,
     "start_time": "2021-01-07T07:31:46.141576",
     "status": "completed"
    },
    "tags": []
   },
   "outputs": [
    {
     "data": {
      "application/vnd.jupyter.widget-view+json": {
       "model_id": "a88e684c60f3461e86efdeaa86f4a858",
       "version_major": 2,
       "version_minor": 0
      },
      "text/plain": [
       "HBox(children=(FloatProgress(value=0.0, max=393656.0), HTML(value='')))"
      ]
     },
     "metadata": {},
     "output_type": "display_data"
    },
    {
     "name": "stdout",
     "output_type": "stream",
     "text": [
      "\n"
     ]
    }
   ],
   "source": [
    "user_time_last = train[['user_id','timestamp']].groupby('user_id')['timestamp'].last().reset_index()\n",
    "user_time_last.columns = ['user_id','last_time']\n",
    "time_last_dict = defaultdict(int)\n",
    "for cnt,item in enumerate(tqdm(user_time_last[['user_id','last_time']].values)):\n",
    "    time_last_dict[item[0]] = item[1]/(1000*3600)"
   ]
  },
  {
   "cell_type": "code",
   "execution_count": 6,
   "metadata": {
    "execution": {
     "iopub.execute_input": "2021-01-07T07:31:51.786388Z",
     "iopub.status.busy": "2021-01-07T07:31:51.785490Z",
     "iopub.status.idle": "2021-01-07T07:31:57.839031Z",
     "shell.execute_reply": "2021-01-07T07:31:57.839553Z"
    },
    "papermill": {
     "duration": 6.093026,
     "end_time": "2021-01-07T07:31:57.839683",
     "exception": false,
     "start_time": "2021-01-07T07:31:51.746657",
     "status": "completed"
    },
    "tags": []
   },
   "outputs": [],
   "source": [
    "train['lag_time'] = train[['user_id','timestamp']].groupby('user_id')['timestamp'].shift()"
   ]
  },
  {
   "cell_type": "code",
   "execution_count": 7,
   "metadata": {
    "execution": {
     "iopub.execute_input": "2021-01-07T07:31:57.913155Z",
     "iopub.status.busy": "2021-01-07T07:31:57.912090Z",
     "iopub.status.idle": "2021-01-07T07:32:03.137422Z",
     "shell.execute_reply": "2021-01-07T07:32:03.137973Z"
    },
    "papermill": {
     "duration": 5.264541,
     "end_time": "2021-01-07T07:32:03.138109",
     "exception": false,
     "start_time": "2021-01-07T07:31:57.873568",
     "status": "completed"
    },
    "tags": []
   },
   "outputs": [],
   "source": [
    "train['lag_time2'] = train[['user_id','timestamp']].groupby('user_id')['timestamp'].shift(2)"
   ]
  },
  {
   "cell_type": "code",
   "execution_count": 8,
   "metadata": {
    "execution": {
     "iopub.execute_input": "2021-01-07T07:32:03.276735Z",
     "iopub.status.busy": "2021-01-07T07:32:03.274478Z",
     "iopub.status.idle": "2021-01-07T07:32:03.277779Z",
     "shell.execute_reply": "2021-01-07T07:32:03.278526Z"
    },
    "papermill": {
     "duration": 0.070064,
     "end_time": "2021-01-07T07:32:03.278698",
     "exception": false,
     "start_time": "2021-01-07T07:32:03.208634",
     "status": "completed"
    },
    "tags": []
   },
   "outputs": [],
   "source": [
    "time_mean = 0.009687222222222222\n",
    "time_mean2 = 0.025640833333333335\n",
    "time_mean3 = 0.043081666666666664"
   ]
  },
  {
   "cell_type": "code",
   "execution_count": 9,
   "metadata": {
    "execution": {
     "iopub.execute_input": "2021-01-07T07:32:03.419629Z",
     "iopub.status.busy": "2021-01-07T07:32:03.418398Z",
     "iopub.status.idle": "2021-01-07T07:32:07.248494Z",
     "shell.execute_reply": "2021-01-07T07:32:07.247994Z"
    },
    "papermill": {
     "duration": 3.902551,
     "end_time": "2021-01-07T07:32:07.248606",
     "exception": false,
     "start_time": "2021-01-07T07:32:03.346055",
     "status": "completed"
    },
    "tags": []
   },
   "outputs": [],
   "source": [
    "user_time_last = train[['user_id','lag_time']].groupby('user_id')['lag_time'].max().reset_index()"
   ]
  },
  {
   "cell_type": "code",
   "execution_count": 10,
   "metadata": {
    "execution": {
     "iopub.execute_input": "2021-01-07T07:32:07.320756Z",
     "iopub.status.busy": "2021-01-07T07:32:07.319914Z",
     "iopub.status.idle": "2021-01-07T07:32:07.323711Z",
     "shell.execute_reply": "2021-01-07T07:32:07.323286Z"
    },
    "papermill": {
     "duration": 0.041674,
     "end_time": "2021-01-07T07:32:07.323817",
     "exception": false,
     "start_time": "2021-01-07T07:32:07.282143",
     "status": "completed"
    },
    "tags": []
   },
   "outputs": [],
   "source": [
    "user_time_last['lag_time'].fillna(-1,inplace=True)"
   ]
  },
  {
   "cell_type": "code",
   "execution_count": 11,
   "metadata": {
    "execution": {
     "iopub.execute_input": "2021-01-07T07:32:07.398097Z",
     "iopub.status.busy": "2021-01-07T07:32:07.397295Z",
     "iopub.status.idle": "2021-01-07T07:32:08.291267Z",
     "shell.execute_reply": "2021-01-07T07:32:08.287521Z"
    },
    "papermill": {
     "duration": 0.934388,
     "end_time": "2021-01-07T07:32:08.291402",
     "exception": false,
     "start_time": "2021-01-07T07:32:07.357014",
     "status": "completed"
    },
    "tags": []
   },
   "outputs": [
    {
     "data": {
      "application/vnd.jupyter.widget-view+json": {
       "model_id": "cf1d4462aa1e480a99bf452f814ad3d8",
       "version_major": 2,
       "version_minor": 0
      },
      "text/plain": [
       "HBox(children=(FloatProgress(value=0.0, max=393656.0), HTML(value='')))"
      ]
     },
     "metadata": {},
     "output_type": "display_data"
    },
    {
     "name": "stdout",
     "output_type": "stream",
     "text": [
      "\n"
     ]
    }
   ],
   "source": [
    "user_time_last.columns = ['user_id','last_time']\n",
    "time_last_dict2 = defaultdict(int)\n",
    "for cnt,item in enumerate(tqdm(user_time_last[['user_id','last_time']].values)):\n",
    "    time_last_dict2[item[0]] = item[1]/(1000*3600)"
   ]
  },
  {
   "cell_type": "code",
   "execution_count": 12,
   "metadata": {
    "execution": {
     "iopub.execute_input": "2021-01-07T07:32:08.368048Z",
     "iopub.status.busy": "2021-01-07T07:32:08.367093Z",
     "iopub.status.idle": "2021-01-07T07:32:10.948423Z",
     "shell.execute_reply": "2021-01-07T07:32:10.947928Z"
    },
    "papermill": {
     "duration": 2.620913,
     "end_time": "2021-01-07T07:32:10.948564",
     "exception": false,
     "start_time": "2021-01-07T07:32:08.327651",
     "status": "completed"
    },
    "tags": []
   },
   "outputs": [],
   "source": [
    "user_time_last = train[['user_id','lag_time2']].groupby('user_id')['lag_time2'].max().reset_index()"
   ]
  },
  {
   "cell_type": "code",
   "execution_count": 13,
   "metadata": {
    "execution": {
     "iopub.execute_input": "2021-01-07T07:32:11.022527Z",
     "iopub.status.busy": "2021-01-07T07:32:11.021663Z",
     "iopub.status.idle": "2021-01-07T07:32:11.025199Z",
     "shell.execute_reply": "2021-01-07T07:32:11.025634Z"
    },
    "papermill": {
     "duration": 0.042508,
     "end_time": "2021-01-07T07:32:11.025738",
     "exception": false,
     "start_time": "2021-01-07T07:32:10.983230",
     "status": "completed"
    },
    "tags": []
   },
   "outputs": [],
   "source": [
    "user_time_last['lag_time2'].fillna(-1,inplace=True)"
   ]
  },
  {
   "cell_type": "code",
   "execution_count": 14,
   "metadata": {
    "execution": {
     "iopub.execute_input": "2021-01-07T07:32:11.100260Z",
     "iopub.status.busy": "2021-01-07T07:32:11.099439Z",
     "iopub.status.idle": "2021-01-07T07:32:11.986264Z",
     "shell.execute_reply": "2021-01-07T07:32:11.982972Z"
    },
    "papermill": {
     "duration": 0.926566,
     "end_time": "2021-01-07T07:32:11.986397",
     "exception": false,
     "start_time": "2021-01-07T07:32:11.059831",
     "status": "completed"
    },
    "tags": []
   },
   "outputs": [
    {
     "data": {
      "application/vnd.jupyter.widget-view+json": {
       "model_id": "c732425bd4a145e2b6f7c51c3b9281ad",
       "version_major": 2,
       "version_minor": 0
      },
      "text/plain": [
       "HBox(children=(FloatProgress(value=0.0, max=393656.0), HTML(value='')))"
      ]
     },
     "metadata": {},
     "output_type": "display_data"
    },
    {
     "name": "stdout",
     "output_type": "stream",
     "text": [
      "\n"
     ]
    }
   ],
   "source": [
    "user_time_last.columns = ['user_id','last_time']\n",
    "time_last_dict3 = defaultdict(int)\n",
    "for cnt,item in enumerate(tqdm(user_time_last[['user_id','last_time']].values)):\n",
    "    time_last_dict3[item[0]] = item[1]/(1000*3600)"
   ]
  },
  {
   "cell_type": "code",
   "execution_count": 15,
   "metadata": {
    "execution": {
     "iopub.execute_input": "2021-01-07T07:32:12.063624Z",
     "iopub.status.busy": "2021-01-07T07:32:12.062615Z",
     "iopub.status.idle": "2021-01-07T07:32:12.457552Z",
     "shell.execute_reply": "2021-01-07T07:32:12.458183Z"
    },
    "papermill": {
     "duration": 0.43581,
     "end_time": "2021-01-07T07:32:12.459562",
     "exception": false,
     "start_time": "2021-01-07T07:32:12.023752",
     "status": "completed"
    },
    "tags": []
   },
   "outputs": [],
   "source": [
    "del train['lag_time']\n",
    "del train['lag_time2']\n",
    "_ = gc.collect()"
   ]
  },
  {
   "cell_type": "code",
   "execution_count": 16,
   "metadata": {
    "execution": {
     "iopub.execute_input": "2021-01-07T07:32:12.552374Z",
     "iopub.status.busy": "2021-01-07T07:32:12.551432Z",
     "iopub.status.idle": "2021-01-07T07:32:18.178658Z",
     "shell.execute_reply": "2021-01-07T07:32:18.179266Z"
    },
    "papermill": {
     "duration": 5.670156,
     "end_time": "2021-01-07T07:32:18.179437",
     "exception": false,
     "start_time": "2021-01-07T07:32:12.509281",
     "status": "completed"
    },
    "tags": []
   },
   "outputs": [
    {
     "data": {
      "application/vnd.jupyter.widget-view+json": {
       "model_id": "faf98d0dced9424ab57b2b3f94eef9eb",
       "version_major": 2,
       "version_minor": 0
      },
      "text/plain": [
       "HBox(children=(FloatProgress(value=0.0, max=393656.0), HTML(value='')))"
      ]
     },
     "metadata": {},
     "output_type": "display_data"
    },
    {
     "name": "stdout",
     "output_type": "stream",
     "text": [
      "\n"
     ]
    }
   ],
   "source": [
    "prior_question_elapsed_time_mean = train.prior_question_elapsed_time.dropna().values.mean()\n",
    "train['prior_question_elapsed_time_mean'] = train['prior_question_elapsed_time'].fillna(prior_question_elapsed_time_mean)\n",
    "user_time_last = train[['user_id','prior_question_elapsed_time_mean']].groupby('user_id')['prior_question_elapsed_time_mean'].last().reset_index()\n",
    "user_time_last.columns = ['user_id','prior_lag_time']\n",
    "prior_time_last_dict = defaultdict(int)\n",
    "for cnt,item in enumerate(tqdm(user_time_last[['user_id','prior_lag_time']].values)):\n",
    "    prior_time_last_dict[item[0]] = item[1]/(1000*3600)"
   ]
  },
  {
   "cell_type": "code",
   "execution_count": 17,
   "metadata": {
    "execution": {
     "iopub.execute_input": "2021-01-07T07:32:18.256703Z",
     "iopub.status.busy": "2021-01-07T07:32:18.255905Z",
     "iopub.status.idle": "2021-01-07T07:32:21.069794Z",
     "shell.execute_reply": "2021-01-07T07:32:21.069277Z"
    },
    "papermill": {
     "duration": 2.853284,
     "end_time": "2021-01-07T07:32:21.069902",
     "exception": false,
     "start_time": "2021-01-07T07:32:18.216618",
     "status": "completed"
    },
    "tags": []
   },
   "outputs": [],
   "source": [
    "train['prior_question_had_explanation'].fillna(False,inplace=True)\n",
    "explanation_agg = train.groupby('user_id')['prior_question_had_explanation'].agg(['sum', 'count'])"
   ]
  },
  {
   "cell_type": "code",
   "execution_count": 18,
   "metadata": {
    "execution": {
     "iopub.execute_input": "2021-01-07T07:32:21.147202Z",
     "iopub.status.busy": "2021-01-07T07:32:21.146402Z",
     "iopub.status.idle": "2021-01-07T07:32:21.493765Z",
     "shell.execute_reply": "2021-01-07T07:32:21.493278Z"
    },
    "papermill": {
     "duration": 0.388164,
     "end_time": "2021-01-07T07:32:21.493884",
     "exception": false,
     "start_time": "2021-01-07T07:32:21.105720",
     "status": "completed"
    },
    "tags": []
   },
   "outputs": [],
   "source": [
    "explanation_sum_dict = explanation_agg['sum'].astype('int16').to_dict(defaultdict(int))\n",
    "explanation_count_dict = explanation_agg['count'].astype('int16').to_dict(defaultdict(int))"
   ]
  },
  {
   "cell_type": "code",
   "execution_count": 19,
   "metadata": {
    "execution": {
     "iopub.execute_input": "2021-01-07T07:32:21.683301Z",
     "iopub.status.busy": "2021-01-07T07:32:21.681917Z",
     "iopub.status.idle": "2021-01-07T07:32:21.684819Z",
     "shell.execute_reply": "2021-01-07T07:32:21.684363Z"
    },
    "papermill": {
     "duration": 0.154226,
     "end_time": "2021-01-07T07:32:21.684913",
     "exception": false,
     "start_time": "2021-01-07T07:32:21.530687",
     "status": "completed"
    },
    "tags": []
   },
   "outputs": [],
   "source": [
    "del explanation_agg\n",
    "_ = gc.collect()"
   ]
  },
  {
   "cell_type": "code",
   "execution_count": 20,
   "metadata": {
    "execution": {
     "iopub.execute_input": "2021-01-07T07:32:21.760084Z",
     "iopub.status.busy": "2021-01-07T07:32:21.759477Z",
     "iopub.status.idle": "2021-01-07T07:32:25.232066Z",
     "shell.execute_reply": "2021-01-07T07:32:25.232536Z"
    },
    "papermill": {
     "duration": 3.511787,
     "end_time": "2021-01-07T07:32:25.232710",
     "exception": false,
     "start_time": "2021-01-07T07:32:21.720923",
     "status": "completed"
    },
    "tags": []
   },
   "outputs": [],
   "source": [
    "attempt_group_by = joblib.load('/kaggle/input/sakt-models/attempt_group_by.pkl.lzma')\n",
    "train[\"attempt\"] = attempt_group_by"
   ]
  },
  {
   "cell_type": "code",
   "execution_count": 21,
   "metadata": {
    "execution": {
     "iopub.execute_input": "2021-01-07T07:32:25.399922Z",
     "iopub.status.busy": "2021-01-07T07:32:25.398774Z",
     "iopub.status.idle": "2021-01-07T07:34:20.737493Z",
     "shell.execute_reply": "2021-01-07T07:34:20.736948Z"
    },
    "papermill": {
     "duration": 115.43248,
     "end_time": "2021-01-07T07:34:20.737613",
     "exception": false,
     "start_time": "2021-01-07T07:32:25.305133",
     "status": "completed"
    },
    "tags": []
   },
   "outputs": [],
   "source": [
    "attempt_agg_dict = joblib.load('/kaggle/input/sakt-models/attempt_agg_dict.pkl.lzma')\n",
    "\n",
    "_ = gc.collect()"
   ]
  },
  {
   "cell_type": "code",
   "execution_count": 22,
   "metadata": {
    "execution": {
     "iopub.execute_input": "2021-01-07T07:34:20.816337Z",
     "iopub.status.busy": "2021-01-07T07:34:20.815590Z",
     "iopub.status.idle": "2021-01-07T07:34:20.818429Z",
     "shell.execute_reply": "2021-01-07T07:34:20.818023Z"
    },
    "papermill": {
     "duration": 0.043783,
     "end_time": "2021-01-07T07:34:20.818556",
     "exception": false,
     "start_time": "2021-01-07T07:34:20.774773",
     "status": "completed"
    },
    "tags": []
   },
   "outputs": [],
   "source": [
    "def get_max_attempt(user_id,content_id):\n",
    "    k = (user_id,content_id)\n",
    "\n",
    "    if k in attempt_agg_dict.keys():\n",
    "        attempt_agg_dict[k]+=1\n",
    "        return attempt_agg_dict[k]\n",
    "\n",
    "    attempt_agg_dict[k] = 1\n",
    "    return attempt_agg_dict[k]"
   ]
  },
  {
   "cell_type": "code",
   "execution_count": 23,
   "metadata": {
    "execution": {
     "iopub.execute_input": "2021-01-07T07:34:20.894335Z",
     "iopub.status.busy": "2021-01-07T07:34:20.893665Z",
     "iopub.status.idle": "2021-01-07T07:34:20.896203Z",
     "shell.execute_reply": "2021-01-07T07:34:20.896600Z"
    },
    "papermill": {
     "duration": 0.042019,
     "end_time": "2021-01-07T07:34:20.896722",
     "exception": false,
     "start_time": "2021-01-07T07:34:20.854703",
     "status": "completed"
    },
    "tags": []
   },
   "outputs": [],
   "source": [
    "target = 'answered_correctly'"
   ]
  },
  {
   "cell_type": "code",
   "execution_count": 24,
   "metadata": {
    "execution": {
     "iopub.execute_input": "2021-01-07T07:34:20.973329Z",
     "iopub.status.busy": "2021-01-07T07:34:20.972514Z",
     "iopub.status.idle": "2021-01-07T07:34:25.410980Z",
     "shell.execute_reply": "2021-01-07T07:34:25.409863Z"
    },
    "papermill": {
     "duration": 4.478667,
     "end_time": "2021-01-07T07:34:25.411110",
     "exception": false,
     "start_time": "2021-01-07T07:34:20.932443",
     "status": "completed"
    },
    "tags": []
   },
   "outputs": [],
   "source": [
    "user_agg = train.groupby('user_id')[target].agg(['sum', 'count'])"
   ]
  },
  {
   "cell_type": "code",
   "execution_count": 25,
   "metadata": {
    "execution": {
     "iopub.execute_input": "2021-01-07T07:34:25.501697Z",
     "iopub.status.busy": "2021-01-07T07:34:25.500677Z",
     "iopub.status.idle": "2021-01-07T07:34:26.294084Z",
     "shell.execute_reply": "2021-01-07T07:34:26.293364Z"
    },
    "papermill": {
     "duration": 0.84135,
     "end_time": "2021-01-07T07:34:26.294238",
     "exception": false,
     "start_time": "2021-01-07T07:34:25.452888",
     "status": "completed"
    },
    "tags": []
   },
   "outputs": [],
   "source": [
    "user_sum_dict = user_agg['sum'].astype('int16').to_dict(defaultdict(int))\n",
    "user_count_dict = user_agg['count'].astype('int16').to_dict(defaultdict(int))\n",
    "del user_agg\n",
    "_ = gc.collect()"
   ]
  },
  {
   "cell_type": "code",
   "execution_count": 26,
   "metadata": {
    "execution": {
     "iopub.execute_input": "2021-01-07T07:34:26.441647Z",
     "iopub.status.busy": "2021-01-07T07:34:26.439573Z",
     "iopub.status.idle": "2021-01-07T07:34:26.444187Z",
     "shell.execute_reply": "2021-01-07T07:34:26.443045Z"
    },
    "papermill": {
     "duration": 0.080984,
     "end_time": "2021-01-07T07:34:26.444404",
     "exception": false,
     "start_time": "2021-01-07T07:34:26.363420",
     "status": "completed"
    },
    "tags": []
   },
   "outputs": [],
   "source": [
    "input_path = '../input/mydata/archive/archive/'"
   ]
  },
  {
   "cell_type": "code",
   "execution_count": 27,
   "metadata": {
    "execution": {
     "iopub.execute_input": "2021-01-07T07:34:26.609424Z",
     "iopub.status.busy": "2021-01-07T07:34:26.608305Z",
     "iopub.status.idle": "2021-01-07T07:34:27.678729Z",
     "shell.execute_reply": "2021-01-07T07:34:27.678216Z"
    },
    "papermill": {
     "duration": 1.156216,
     "end_time": "2021-01-07T07:34:27.678845",
     "exception": false,
     "start_time": "2021-01-07T07:34:26.522629",
     "status": "completed"
    },
    "tags": []
   },
   "outputs": [],
   "source": [
    "answered_correctly_avg_c = pd.read_csv(input_path + 'answered_correctly_avg_c.csv')\n",
    "answered_correctly_std_c = pd.read_csv(input_path + 'answered_correctly_std_c.csv')\n",
    "answered_correctly_sum_c = pd.read_csv(input_path + 'answered_correctly_sum_c.csv')\n",
    "answered_correctly_sum_m = pd.read_csv(input_path + 'answered_correctly_sum_m.csv')\n",
    "answered_correctly_avg_p = pd.read_csv(input_path + 'answered_correctly_avg_p.csv')\n",
    "answered_correctly_sum_p = pd.read_csv(input_path + 'answered_correctly_sum_p.csv')\n",
    "answered_correctly_avg_b = pd.read_csv(input_path + 'answered_correctly_avg_b.csv')\n",
    "answered_correctly_avg_t = pd.read_csv(input_path + 'answered_correctly_avg_t.csv')\n",
    "answered_correctly_sum_t = pd.read_csv(input_path + 'answered_correctly_sum_t.csv')\n",
    "\n",
    "lag_time_avg_b = pd.read_csv(input_path + 'lag_time_avg_b.csv')\n",
    "lag_time_avg_c = pd.read_csv(input_path + 'lag_time_avg_c.csv')\n",
    "lag_time_avg_g = pd.read_csv(input_path + 'lag_time_avg_g.csv')\n",
    "lag_time_avg_m = pd.read_csv(input_path + 'lag_time_avg_m.csv')\n",
    "lag_time_avg_p = pd.read_csv(input_path + 'lag_time_avg_p.csv')\n",
    "lag_time_avg_t = pd.read_csv(input_path + 'lag_time_avg_t.csv')\n",
    "\n",
    "hard_question_sum = pd.read_csv(input_path + 'hard_question_sum.csv')\n",
    "\n",
    "middle_question_sum = pd.read_csv(input_path + 'middle_question_sum.csv')\n",
    "\n",
    "easy_question_sum = pd.read_csv(input_path + 'easy_question_sum.csv')\n",
    "answered_correctly_avg_g = pd.read_csv(input_path + 'answered_correctly_avg_g.csv')\n",
    "answered_correctly_sum_g = pd.read_csv(input_path + 'answered_correctly_sum_g.csv')\n",
    "question =pd.read_csv('../input/mydata/archive/archive/questions_df.csv')"
   ]
  },
  {
   "cell_type": "code",
   "execution_count": 28,
   "metadata": {
    "execution": {
     "iopub.execute_input": "2021-01-07T07:34:27.757140Z",
     "iopub.status.busy": "2021-01-07T07:34:27.756434Z",
     "iopub.status.idle": "2021-01-07T07:34:27.759579Z",
     "shell.execute_reply": "2021-01-07T07:34:27.759967Z"
    },
    "papermill": {
     "duration": 0.044659,
     "end_time": "2021-01-07T07:34:27.760082",
     "exception": false,
     "start_time": "2021-01-07T07:34:27.715423",
     "status": "completed"
    },
    "tags": []
   },
   "outputs": [],
   "source": [
    "question.drop('Unnamed: 0',axis=1,inplace=True)"
   ]
  },
  {
   "cell_type": "code",
   "execution_count": 29,
   "metadata": {
    "execution": {
     "iopub.execute_input": "2021-01-07T07:34:27.859172Z",
     "iopub.status.busy": "2021-01-07T07:34:27.849574Z",
     "iopub.status.idle": "2021-01-07T07:34:27.861864Z",
     "shell.execute_reply": "2021-01-07T07:34:27.861403Z"
    },
    "papermill": {
     "duration": 0.066253,
     "end_time": "2021-01-07T07:34:27.861955",
     "exception": false,
     "start_time": "2021-01-07T07:34:27.795702",
     "status": "completed"
    },
    "tags": []
   },
   "outputs": [],
   "source": [
    "def add_user_feats_without_update(df,user_sum_dict,user_count_dict):\n",
    "    acsu = np.zeros(len(df), dtype=np.int32)\n",
    "    cu = np.zeros(len(df), dtype=np.int32)\n",
    "    for cnt,row in enumerate(df[['user_id']].values):\n",
    "        acsu[cnt] = user_sum_dict[row[0]]\n",
    "        cu[cnt] = user_count_dict[row[0]]\n",
    "\n",
    "    user_feats_df = pd.DataFrame({'user_correct_cumsum':acsu, 'user_correct_cumcount':cu})\n",
    "    user_feats_df['user_correctness'] = user_feats_df['user_correct_cumsum'] / user_feats_df['user_correct_cumcount']\n",
    "    df = pd.concat([df, user_feats_df], axis=1)\n",
    "    return df\n",
    "\n",
    "\n",
    "def add_explanation(df,explanation_sum_dict,explanation_count_dict):\n",
    "    acsu_explanation = np.zeros(len(df), dtype=np.int32)\n",
    "    cu_explanation = np.zeros(len(df), dtype=np.int32)\n",
    "    for cnt,row in enumerate(df[['user_id','prior_question_had_explanation']].values):\n",
    "        cu_explanation[cnt] = explanation_count_dict[row[0]] + 1\n",
    "        acsu_explanation[cnt] = explanation_sum_dict[row[0]] + row[1]\n",
    "    explanation_feats_df = pd.DataFrame({'explanation_cumsum':acsu_explanation, 'explanation_cumcount':cu_explanation})\n",
    "    explanation_feats_df['explanation_mean'] = explanation_feats_df['explanation_cumsum'] / explanation_feats_df['explanation_cumcount']\n",
    "    df = pd.concat([df,explanation_feats_df], axis=1)\n",
    "    return df\n",
    "\n",
    "\n",
    "def add_time(df, time_last_dict,time_last_dict2,time_last_dict3):\n",
    "    time = np.zeros(len(df), dtype=np.float64)\n",
    "    time2 = np.zeros(len(df), dtype=np.float64)\n",
    "    time3 = np.zeros(len(df), dtype=np.float64)\n",
    "    for cnt,row in enumerate(df[['user_id','timestamp']].values):\n",
    "        if row[0] in time_last_dict.keys():\n",
    "            time[cnt]=row[1]-time_last_dict[row[0]]\n",
    "            if(time_last_dict2[row[0]]==time_mean2 or time_last_dict2[row[0]] == -1):#\n",
    "                time2[cnt]=time_mean2\n",
    "                time3[cnt]=time_mean3\n",
    "               \n",
    "            else:\n",
    "                time2[cnt]=row[1]-time_last_dict2[row[0]]\n",
    "                if(time_last_dict3[row[0]]==time_mean3 or time_last_dict3[row[0]] == -1):\n",
    "                    time3[cnt]=time_mean3 \n",
    "                else:\n",
    "                    time3[cnt]=row[1]-time_last_dict3[row[0]]\n",
    "\n",
    "                time_last_dict3[row[0]]=time_last_dict2[row[0]]\n",
    "\n",
    "            time_last_dict2[row[0]]=time_last_dict[row[0]]\n",
    "            time_last_dict[row[0]]=row[1]\n",
    "\n",
    "        else:\n",
    "            time[cnt]=time_mean\n",
    "            time_last_dict[row[0]] = row[1]\n",
    "            time2[cnt]=time_mean2\n",
    "            time_last_dict2[row[0]] = time_mean2\n",
    "            time3[cnt]=time_mean3\n",
    "            time_last_dict3[row[0]] = time_mean3\n",
    "\n",
    "    \n",
    "    time_last_df = pd.DataFrame({'lag_time':time,'lag_time2':time2,'lag_time3':time3})\n",
    "    \n",
    "    df = pd.concat([df, time_last_df], axis=1)\n",
    "    return df\n",
    "\n",
    "\n",
    "def add_prior_time(df,prior_time_last_dict):\n",
    "    prior_time = np.zeros(len(df), dtype=np.float64)\n",
    "    for cnt,row in enumerate(df[['user_id','prior_question_elapsed_time_mean']].values):\n",
    "        if prior_time_last_dict[row[0]] != 0:\n",
    "            prior_time[cnt] = row[1] - prior_time_last_dict[row[0]]\n",
    "            prior_time_last_dict[row[0]] = row[1]\n",
    "        else:\n",
    "            prior_time_last_dict[row[0]] = row[1]\n",
    "            \n",
    "    time_last_df = pd.DataFrame({'prior_lag_time':prior_time})\n",
    "    df = pd.concat([df, time_last_df], axis=1)\n",
    "    return df"
   ]
  },
  {
   "cell_type": "code",
   "execution_count": 30,
   "metadata": {
    "execution": {
     "iopub.execute_input": "2021-01-07T07:34:27.938819Z",
     "iopub.status.busy": "2021-01-07T07:34:27.938238Z",
     "iopub.status.idle": "2021-01-07T07:34:27.942308Z",
     "shell.execute_reply": "2021-01-07T07:34:27.941871Z"
    },
    "papermill": {
     "duration": 0.044632,
     "end_time": "2021-01-07T07:34:27.942398",
     "exception": false,
     "start_time": "2021-01-07T07:34:27.897766",
     "status": "completed"
    },
    "tags": []
   },
   "outputs": [],
   "source": [
    "def update_user_feats(df, user_sum_dict,user_count_dict):\n",
    "    temp = []\n",
    "    for row in df[['user_id','answered_correctly','content_type_id']].values:\n",
    "        if row[2] == 0:\n",
    "            user_sum_dict[row[0]] += row[1]\n",
    "            user_count_dict[row[0]] += 1"
   ]
  },
  {
   "cell_type": "code",
   "execution_count": 31,
   "metadata": {
    "execution": {
     "iopub.execute_input": "2021-01-07T07:34:28.393134Z",
     "iopub.status.busy": "2021-01-07T07:34:28.391219Z",
     "iopub.status.idle": "2021-01-07T07:34:28.393758Z",
     "shell.execute_reply": "2021-01-07T07:34:28.394167Z"
    },
    "papermill": {
     "duration": 0.416313,
     "end_time": "2021-01-07T07:34:28.394288",
     "exception": false,
     "start_time": "2021-01-07T07:34:27.977975",
     "status": "completed"
    },
    "tags": []
   },
   "outputs": [],
   "source": [
    "del train\n",
    "_=gc.collect()"
   ]
  },
  {
   "cell_type": "code",
   "execution_count": 32,
   "metadata": {
    "execution": {
     "iopub.execute_input": "2021-01-07T07:34:28.471658Z",
     "iopub.status.busy": "2021-01-07T07:34:28.471133Z",
     "iopub.status.idle": "2021-01-07T07:34:28.764955Z",
     "shell.execute_reply": "2021-01-07T07:34:28.764272Z"
    },
    "papermill": {
     "duration": 0.334319,
     "end_time": "2021-01-07T07:34:28.765084",
     "exception": false,
     "start_time": "2021-01-07T07:34:28.430765",
     "status": "completed"
    },
    "tags": []
   },
   "outputs": [],
   "source": [
    "user_bundle_first = pd.read_csv('../input/mydata/archive/archive/user_bundle_first.csv')\n",
    "user_tag_first = pd.read_csv('../input/mydata/archive/archive/user_tag_first.csv')"
   ]
  },
  {
   "cell_type": "code",
   "execution_count": 33,
   "metadata": {
    "execution": {
     "iopub.execute_input": "2021-01-07T07:34:28.863914Z",
     "iopub.status.busy": "2021-01-07T07:34:28.862978Z",
     "iopub.status.idle": "2021-01-07T07:34:30.151634Z",
     "shell.execute_reply": "2021-01-07T07:34:30.152371Z"
    },
    "papermill": {
     "duration": 1.35127,
     "end_time": "2021-01-07T07:34:30.152554",
     "exception": false,
     "start_time": "2021-01-07T07:34:28.801284",
     "status": "completed"
    },
    "tags": []
   },
   "outputs": [
    {
     "data": {
      "application/vnd.jupyter.widget-view+json": {
       "model_id": "8e4b1f102b224d1e9a24283c9c7866b0",
       "version_major": 2,
       "version_minor": 0
      },
      "text/plain": [
       "HBox(children=(FloatProgress(value=0.0, max=393656.0), HTML(value='')))"
      ]
     },
     "metadata": {},
     "output_type": "display_data"
    },
    {
     "name": "stdout",
     "output_type": "stream",
     "text": [
      "\n"
     ]
    },
    {
     "data": {
      "application/vnd.jupyter.widget-view+json": {
       "model_id": "29586763c12e4033b24c7b2c44c93db1",
       "version_major": 2,
       "version_minor": 0
      },
      "text/plain": [
       "HBox(children=(FloatProgress(value=0.0, max=393656.0), HTML(value='')))"
      ]
     },
     "metadata": {},
     "output_type": "display_data"
    },
    {
     "name": "stdout",
     "output_type": "stream",
     "text": [
      "\n"
     ]
    }
   ],
   "source": [
    "user_bundle_first_dict = defaultdict(int)\n",
    "for cnt,item in enumerate(tqdm(user_bundle_first[['user_id','user_bundle_first']].values)):\n",
    "    user_bundle_first_dict[item[0]] = item[1]\n",
    "\n",
    "user_tag_first_dict = defaultdict(int)\n",
    "for cnt,item in enumerate(tqdm(user_tag_first[['user_id','user_tag_first']].values)):\n",
    "    user_tag_first_dict[item[0]] = item[1]"
   ]
  },
  {
   "cell_type": "code",
   "execution_count": 34,
   "metadata": {
    "execution": {
     "iopub.execute_input": "2021-01-07T07:34:30.239425Z",
     "iopub.status.busy": "2021-01-07T07:34:30.238917Z",
     "iopub.status.idle": "2021-01-07T07:34:30.242734Z",
     "shell.execute_reply": "2021-01-07T07:34:30.243125Z"
    },
    "papermill": {
     "duration": 0.050016,
     "end_time": "2021-01-07T07:34:30.243244",
     "exception": false,
     "start_time": "2021-01-07T07:34:30.193228",
     "status": "completed"
    },
    "tags": []
   },
   "outputs": [],
   "source": [
    "def add_first(df,user_bundle_first_dict,user_tag_first_dict):\n",
    "    temp1 = np.zeros(len(df))\n",
    "    temp2 = np.zeros(len(df))\n",
    "    for cnt,row in enumerate(df[['user_id','bundle_id','tags_lsi']].values):\n",
    "        if row[0] not in user_bundle_first_dict.keys():\n",
    "            user_bundle_first_dict[row[0]]  = row[1]\n",
    "            user_tag_first_dict[row[0]]  = row[2]\n",
    "        temp1[cnt] = user_bundle_first_dict[row[0]]\n",
    "        temp2[cnt] = user_tag_first_dict[row[0]]\n",
    "    leature_df = pd.DataFrame({'user_bundle_first':temp1,'user_tag_first':temp2})\n",
    "    df = pd.concat([df, leature_df], axis=1)\n",
    "    return df"
   ]
  },
  {
   "cell_type": "code",
   "execution_count": 35,
   "metadata": {
    "execution": {
     "iopub.execute_input": "2021-01-07T07:34:30.322013Z",
     "iopub.status.busy": "2021-01-07T07:34:30.321445Z",
     "iopub.status.idle": "2021-01-07T07:34:30.486221Z",
     "shell.execute_reply": "2021-01-07T07:34:30.485687Z"
    },
    "papermill": {
     "duration": 0.206258,
     "end_time": "2021-01-07T07:34:30.486323",
     "exception": false,
     "start_time": "2021-01-07T07:34:30.280065",
     "status": "completed"
    },
    "tags": []
   },
   "outputs": [],
   "source": [
    "user_lecture_agg = pd.read_csv('../input/mydata/archive/archive/user_lecture_agg.csv')"
   ]
  },
  {
   "cell_type": "code",
   "execution_count": 36,
   "metadata": {
    "execution": {
     "iopub.execute_input": "2021-01-07T07:34:30.605373Z",
     "iopub.status.busy": "2021-01-07T07:34:30.604369Z",
     "iopub.status.idle": "2021-01-07T07:34:31.507327Z",
     "shell.execute_reply": "2021-01-07T07:34:31.503232Z"
    },
    "papermill": {
     "duration": 0.982611,
     "end_time": "2021-01-07T07:34:31.507476",
     "exception": false,
     "start_time": "2021-01-07T07:34:30.524865",
     "status": "completed"
    },
    "tags": []
   },
   "outputs": [
    {
     "data": {
      "application/vnd.jupyter.widget-view+json": {
       "model_id": "e0c306b0e74b464c9ba96473afc9864a",
       "version_major": 2,
       "version_minor": 0
      },
      "text/plain": [
       "HBox(children=(FloatProgress(value=0.0, max=393656.0), HTML(value='')))"
      ]
     },
     "metadata": {},
     "output_type": "display_data"
    },
    {
     "name": "stdout",
     "output_type": "stream",
     "text": [
      "\n"
     ]
    }
   ],
   "source": [
    "user_lecture_sum = defaultdict(int)\n",
    "user_lecture_count = defaultdict(int)\n",
    "for cnt,item in enumerate(tqdm(user_lecture_agg[['user_id','sum','count']].values)):\n",
    "    user_lecture_sum[item[0]] = item[1]\n",
    "    user_lecture_count[item[0]] = item[2]"
   ]
  },
  {
   "cell_type": "code",
   "execution_count": 37,
   "metadata": {
    "execution": {
     "iopub.execute_input": "2021-01-07T07:34:31.613984Z",
     "iopub.status.busy": "2021-01-07T07:34:31.613156Z",
     "iopub.status.idle": "2021-01-07T07:34:34.011606Z",
     "shell.execute_reply": "2021-01-07T07:34:34.006847Z"
    },
    "papermill": {
     "duration": 2.462756,
     "end_time": "2021-01-07T07:34:34.011750",
     "exception": false,
     "start_time": "2021-01-07T07:34:31.548994",
     "status": "completed"
    },
    "tags": []
   },
   "outputs": [
    {
     "data": {
      "application/vnd.jupyter.widget-view+json": {
       "model_id": "61f687afcdf441d1b272d054b09f924f",
       "version_major": 2,
       "version_minor": 0
      },
      "text/plain": [
       "HBox(children=(FloatProgress(value=0.0, max=393656.0), HTML(value='')))"
      ]
     },
     "metadata": {},
     "output_type": "display_data"
    },
    {
     "name": "stdout",
     "output_type": "stream",
     "text": [
      "\n"
     ]
    },
    {
     "data": {
      "application/vnd.jupyter.widget-view+json": {
       "model_id": "16d4d32196ea45478566801536e45a19",
       "version_major": 2,
       "version_minor": 0
      },
      "text/plain": [
       "HBox(children=(FloatProgress(value=0.0, max=393656.0), HTML(value='')))"
      ]
     },
     "metadata": {},
     "output_type": "display_data"
    },
    {
     "name": "stdout",
     "output_type": "stream",
     "text": [
      "\n"
     ]
    },
    {
     "data": {
      "application/vnd.jupyter.widget-view+json": {
       "model_id": "e8cdd3f540664542bebee0c90f24683d",
       "version_major": 2,
       "version_minor": 0
      },
      "text/plain": [
       "HBox(children=(FloatProgress(value=0.0, max=393656.0), HTML(value='')))"
      ]
     },
     "metadata": {},
     "output_type": "display_data"
    },
    {
     "name": "stdout",
     "output_type": "stream",
     "text": [
      "\n"
     ]
    }
   ],
   "source": [
    "hard_question_sum_dict = defaultdict(int)\n",
    "for cnt,item in enumerate(tqdm(hard_question_sum[['user_id','hard_question_sum']].values)):\n",
    "    hard_question_sum_dict[item[0]] = item[1]\n",
    "    \n",
    "middle_question_sum_dict = defaultdict(int)\n",
    "for cnt,item in enumerate(tqdm(middle_question_sum[['user_id','middle_question_sum']].values)):\n",
    "    middle_question_sum_dict[item[0]] = item[1]\n",
    "\n",
    "easy_question_sum_dict = defaultdict(int)\n",
    "for cnt,item in enumerate(tqdm(easy_question_sum[['user_id','easy_question_sum']].values)):\n",
    "    easy_question_sum_dict[item[0]] = item[1]"
   ]
  },
  {
   "cell_type": "code",
   "execution_count": 38,
   "metadata": {
    "execution": {
     "iopub.execute_input": "2021-01-07T07:34:34.102789Z",
     "iopub.status.busy": "2021-01-07T07:34:34.101480Z",
     "iopub.status.idle": "2021-01-07T07:34:34.104527Z",
     "shell.execute_reply": "2021-01-07T07:34:34.104004Z"
    },
    "papermill": {
     "duration": 0.051559,
     "end_time": "2021-01-07T07:34:34.104612",
     "exception": false,
     "start_time": "2021-01-07T07:34:34.053053",
     "status": "completed"
    },
    "tags": []
   },
   "outputs": [],
   "source": [
    "def add_leature(df,user_lecture_sum,user_lecture_count):\n",
    "    temp1 = np.zeros(len(df))\n",
    "    temp2 = np.zeros(len(df))\n",
    "    for cnt,row in enumerate(df[['user_id','content_type_id']].values):\n",
    "        user_lecture_count[row[0]] = user_lecture_count[row[0]] + 1\n",
    "        user_lecture_sum[row[0]] = user_lecture_sum[row[0]] +row[1]\n",
    "        if row[1] == 0:\n",
    "            temp1[cnt] = user_lecture_sum[row[0]]\n",
    "            temp2[cnt] =  user_lecture_sum[row[0]]/user_lecture_count[row[0]]\n",
    "    leature_df = pd.DataFrame({'user_lecture_sum':temp1,'user_lecture_lv':temp2})\n",
    "    df = pd.concat([df, leature_df], axis=1)\n",
    "    return df"
   ]
  },
  {
   "cell_type": "code",
   "execution_count": 39,
   "metadata": {
    "execution": {
     "iopub.execute_input": "2021-01-07T07:34:34.190623Z",
     "iopub.status.busy": "2021-01-07T07:34:34.190083Z",
     "iopub.status.idle": "2021-01-07T07:34:34.329870Z",
     "shell.execute_reply": "2021-01-07T07:34:34.329327Z"
    },
    "papermill": {
     "duration": 0.185433,
     "end_time": "2021-01-07T07:34:34.329974",
     "exception": false,
     "start_time": "2021-01-07T07:34:34.144541",
     "status": "completed"
    },
    "tags": []
   },
   "outputs": [],
   "source": [
    "question_cnt = pd.read_csv('../input/mydata/archive/archive/easy_question_count.csv')"
   ]
  },
  {
   "cell_type": "code",
   "execution_count": 40,
   "metadata": {
    "execution": {
     "iopub.execute_input": "2021-01-07T07:34:34.434349Z",
     "iopub.status.busy": "2021-01-07T07:34:34.433284Z",
     "iopub.status.idle": "2021-01-07T07:34:35.070723Z",
     "shell.execute_reply": "2021-01-07T07:34:35.066554Z"
    },
    "papermill": {
     "duration": 0.700647,
     "end_time": "2021-01-07T07:34:35.070829",
     "exception": false,
     "start_time": "2021-01-07T07:34:34.370182",
     "status": "completed"
    },
    "tags": []
   },
   "outputs": [
    {
     "data": {
      "application/vnd.jupyter.widget-view+json": {
       "model_id": "8307ed8baf8946ac85a147570b324b45",
       "version_major": 2,
       "version_minor": 0
      },
      "text/plain": [
       "HBox(children=(FloatProgress(value=0.0, max=393656.0), HTML(value='')))"
      ]
     },
     "metadata": {},
     "output_type": "display_data"
    },
    {
     "name": "stdout",
     "output_type": "stream",
     "text": [
      "\n"
     ]
    }
   ],
   "source": [
    "question_cnt_dict = defaultdict(int)\n",
    "for cnt,item in enumerate(tqdm(question_cnt[['user_id','easy_question_count']].values)):\n",
    "    question_cnt_dict[item[0]] = item[1]"
   ]
  },
  {
   "cell_type": "code",
   "execution_count": 41,
   "metadata": {
    "execution": {
     "iopub.execute_input": "2021-01-07T07:34:35.185943Z",
     "iopub.status.busy": "2021-01-07T07:34:35.184064Z",
     "iopub.status.idle": "2021-01-07T07:34:35.187439Z",
     "shell.execute_reply": "2021-01-07T07:34:35.187013Z"
    },
    "papermill": {
     "duration": 0.075685,
     "end_time": "2021-01-07T07:34:35.187542",
     "exception": false,
     "start_time": "2021-01-07T07:34:35.111857",
     "status": "completed"
    },
    "tags": []
   },
   "outputs": [],
   "source": [
    "def add_leavel(df,hard_question_sum_dict,middle_question_sum_dict,easy_question_sum_dict,question_cnt_dict):\n",
    "    easy_sum = np.zeros(len(df))\n",
    "    easy_mean = np.zeros(len(df))\n",
    "    middle_sum = np.zeros(len(df))\n",
    "    middle_mean = np.zeros(len(df))\n",
    "    hard_sum = np.zeros(len(df))\n",
    "    hard_mean = np.zeros(len(df))\n",
    "    for cnt,row in enumerate(df[['user_id','answered_correctly_avg_c']].values):\n",
    "        question_cnt_dict[row[0]] = question_cnt_dict[row[0]] + 1\n",
    "        if row[1] < 0.6:\n",
    "            hard_question_sum_dict[row[0]] = hard_question_sum_dict[row[0]] + 1\n",
    "        if 0.6<=row[1]<0.83:\n",
    "            middle_question_sum_dict[row[0]] = middle_question_sum_dict[row[0]] + 1\n",
    "        if row[1] >= 0.83:\n",
    "            easy_question_sum_dict[row[0]] = easy_question_sum_dict[row[0]] + 1\n",
    "        easy_sum[cnt] = easy_question_sum_dict[row[0]]\n",
    "        easy_mean[cnt] = easy_question_sum_dict[row[0]]/question_cnt_dict[row[0]]\n",
    "        \n",
    "        middle_sum[cnt] = middle_question_sum_dict[row[0]]\n",
    "        middle_mean[cnt] = middle_question_sum_dict[row[0]]/question_cnt_dict[row[0]]\n",
    "        \n",
    "        hard_sum[cnt] = hard_question_sum_dict[row[0]]\n",
    "        hard_mean[cnt] = hard_question_sum_dict[row[0]]/question_cnt_dict[row[0]]\n",
    "    question_lv = pd.DataFrame({'hard_question_sum':hard_sum,'hard_question_mean':hard_mean,'middle_question_sum':middle_sum,'middle_question_mean':middle_mean,'easy_question_sum':easy_sum,'easy_question_mean':easy_mean})\n",
    "    df = pd.concat([df, question_lv], axis=1)\n",
    "    return df"
   ]
  },
  {
   "cell_type": "code",
   "execution_count": 42,
   "metadata": {
    "execution": {
     "iopub.execute_input": "2021-01-07T07:34:35.273011Z",
     "iopub.status.busy": "2021-01-07T07:34:35.272296Z",
     "iopub.status.idle": "2021-01-07T07:34:35.275222Z",
     "shell.execute_reply": "2021-01-07T07:34:35.274805Z"
    },
    "papermill": {
     "duration": 0.046835,
     "end_time": "2021-01-07T07:34:35.275308",
     "exception": false,
     "start_time": "2021-01-07T07:34:35.228473",
     "status": "completed"
    },
    "tags": []
   },
   "outputs": [],
   "source": [
    "env = riiideducation.make_env()\n",
    "iter_test = env.iter_test()"
   ]
  },
  {
   "cell_type": "markdown",
   "metadata": {
    "papermill": {
     "duration": 0.040147,
     "end_time": "2021-01-07T07:34:35.355948",
     "exception": false,
     "start_time": "2021-01-07T07:34:35.315801",
     "status": "completed"
    },
    "tags": []
   },
   "source": [
    "# SAINT+"
   ]
  },
  {
   "cell_type": "code",
   "execution_count": 43,
   "metadata": {
    "execution": {
     "iopub.execute_input": "2021-01-07T07:34:35.440810Z",
     "iopub.status.busy": "2021-01-07T07:34:35.440124Z",
     "iopub.status.idle": "2021-01-07T07:34:35.443160Z",
     "shell.execute_reply": "2021-01-07T07:34:35.442724Z"
    },
    "papermill": {
     "duration": 0.046843,
     "end_time": "2021-01-07T07:34:35.443242",
     "exception": false,
     "start_time": "2021-01-07T07:34:35.396399",
     "status": "completed"
    },
    "tags": []
   },
   "outputs": [],
   "source": [
    "MAX_SEQ = 200"
   ]
  },
  {
   "cell_type": "code",
   "execution_count": 44,
   "metadata": {
    "execution": {
     "iopub.execute_input": "2021-01-07T07:34:35.543325Z",
     "iopub.status.busy": "2021-01-07T07:34:35.532833Z",
     "iopub.status.idle": "2021-01-07T07:34:35.707321Z",
     "shell.execute_reply": "2021-01-07T07:34:35.706885Z"
    },
    "papermill": {
     "duration": 0.223864,
     "end_time": "2021-01-07T07:34:35.707406",
     "exception": false,
     "start_time": "2021-01-07T07:34:35.483542",
     "status": "completed"
    },
    "tags": []
   },
   "outputs": [],
   "source": [
    "class Feed_Forward_block(nn.Module):\n",
    "    \"\"\"\n",
    "    out =  Relu( M_out*w1 + b1) *w2 + b2\n",
    "    \"\"\"\n",
    "    def __init__(self, dim_ff):\n",
    "        super().__init__()\n",
    "        self.layer1 = nn.Linear(in_features=dim_ff , out_features=dim_ff)\n",
    "        self.layer2 = nn.Linear(in_features=dim_ff , out_features=dim_ff)\n",
    "        #self.dropout = nn.Dropout(0.1)\n",
    "\n",
    "    def forward(self,ffn_in):\n",
    "        #return  self.dropout(self.layer2(   F.relu( self.layer1(ffn_in) )   ))\n",
    "        return  self.layer2(   F.relu( self.layer1(ffn_in) )   )\n",
    "        \n",
    "\n",
    "class Encoder_block(nn.Module):\n",
    "    \"\"\"\n",
    "    M = SkipConct(Multihead(LayerNorm(Qin;Kin;Vin)))\n",
    "    O = SkipConct(FFN(LayerNorm(M)))\n",
    "    \"\"\"\n",
    "\n",
    "    def __init__(self , dim_model, heads_en, total_ex ,total_cat, seq_len):\n",
    "        super().__init__()\n",
    "        self.seq_len = seq_len\n",
    "        self.embd_ex =   nn.Embedding( total_ex , embedding_dim = dim_model )                   # embedings  q,k,v = E = exercise ID embedding, category embedding, and positionembedding.\n",
    "        self.embd_cat =  nn.Embedding( total_cat, embedding_dim = dim_model )\n",
    "        self.embd_pos = nn.Embedding(  seq_len , embedding_dim = dim_model )                  #positional embedding\n",
    "        #self.embd_pr = nn.Embedding(  2 , embedding_dim = dim_model )                  # prior question has explanation embedding\n",
    "\n",
    "        self.multi_en = nn.MultiheadAttention( embed_dim= dim_model, num_heads= heads_en,  )     # multihead attention    ## todo add dropout, LayerNORM\n",
    "        self.ffn_en = Feed_Forward_block( dim_model )                                            # feedforward block     ## todo dropout, LayerNorm\n",
    "        self.layer_norm1 = nn.LayerNorm( dim_model )\n",
    "        self.layer_norm2 = nn.LayerNorm( dim_model )\n",
    "\n",
    "\n",
    "    #def forward(self, in_ex, in_cat, in_pr, first_block=True):\n",
    "    def forward(self, in_ex, in_cat, first_block=True):\n",
    "\n",
    "        ## todo create a positional encoding ( two options numeric, sine)\n",
    "        if first_block:\n",
    "            in_ex = self.embd_ex( in_ex )\n",
    "            in_cat = self.embd_cat( in_cat )\n",
    "            #in_pr = self.embd_cat( in_pr )\n",
    "            #combining the embedings\n",
    "            #out = in_ex + in_cat + in_pr #+ in_pos                      # (b,n,d)\n",
    "            out = in_ex + in_cat#+ in_pos                      # (b,n,d)\n",
    "        else:\n",
    "            out = in_ex\n",
    "        \n",
    "        in_pos = get_pos(self.seq_len)\n",
    "        in_pos = self.embd_pos( in_pos )\n",
    "        out = out + in_pos                                      # Applying positional embedding\n",
    "\n",
    "        out = out.permute(1,0,2)                                # (n,b,d)\n",
    "        # print('pre multi', out.shape )\n",
    "        \n",
    "        #Multihead attention                            \n",
    "        n,_,_ = out.shape\n",
    "        out = self.layer_norm1( out )                           # Layer norm\n",
    "        skip_out = out \n",
    "        out, attn_wt = self.multi_en( out , out , out ,\n",
    "                                attn_mask=get_mask(seq_len=n))  # attention mask upper triangular\n",
    "        out = out + skip_out                                    # skip connection\n",
    "\n",
    "        #feed forward\n",
    "        out = out.permute(1,0,2)                                # (b,n,d)\n",
    "        out = self.layer_norm2( out )                           # Layer norm \n",
    "        skip_out = out\n",
    "        out = self.ffn_en( out )\n",
    "        out = out + skip_out                                    # skip connection\n",
    "\n",
    "        return out\n",
    "\n",
    "\n",
    "class Decoder_block(nn.Module):\n",
    "    \"\"\"\n",
    "    M1 = SkipConct(Multihead(LayerNorm(Qin;Kin;Vin)))\n",
    "    M2 = SkipConct(Multihead(LayerNorm(M1;O;O)))\n",
    "    L = SkipConct(FFN(LayerNorm(M2)))\n",
    "    \"\"\"\n",
    "\n",
    "    def __init__(self,dim_model ,total_in, heads_de, seq_len):\n",
    "        super().__init__()\n",
    "        self.seq_len    = seq_len\n",
    "        self.embd_in    = nn.Embedding(  total_in , embedding_dim = dim_model )                  #interaction embedding\n",
    "        self.embd_pos   = nn.Embedding(  seq_len , embedding_dim = dim_model )                  #positional embedding\n",
    "        #self.embd_pr    = nn.Embedding(  2 , embedding_dim = dim_model )\n",
    "        self.embd_ts    = nn.Embedding(  150, embedding_dim = dim_model )\n",
    "        self.multi_de1  = nn.MultiheadAttention( embed_dim= dim_model, num_heads= heads_de  )  # M1 multihead for interaction embedding as q k v\n",
    "        self.multi_de2  = nn.MultiheadAttention( embed_dim= dim_model, num_heads= heads_de  )  # M2 multihead for M1 out, encoder out, encoder out as q k v\n",
    "        self.ffn_en     = Feed_Forward_block( dim_model )                                         # feed forward layer\n",
    "\n",
    "        self.layer_norm1 = nn.LayerNorm( dim_model )\n",
    "        self.layer_norm2 = nn.LayerNorm( dim_model )\n",
    "        self.layer_norm3 = nn.LayerNorm( dim_model )\n",
    "\n",
    "\n",
    "    #def forward(self, in_in, en_out, in_pr, ts, first_block=True):\n",
    "    def forward(self, in_in, en_out, ts, first_block=True):\n",
    "\n",
    "         ## todo create a positional encoding ( two options numeric, sine)\n",
    "        if first_block:\n",
    "            #print(in_in)\n",
    "            in_in = self.embd_in( in_in )\n",
    "\n",
    "            #combining the embedings\n",
    "            out = in_in #+ in_cat #+ in_pos                         # (b,n,d)\n",
    "        else:\n",
    "            out = in_in\n",
    "\n",
    "        in_pos = get_pos(self.seq_len)\n",
    "        in_pos = self.embd_pos( in_pos )\n",
    "        out = out + in_pos                                          # Applying positional embedding\n",
    "\n",
    "        #in_pr = self.embd_pr(in_pr)\n",
    "        #out = out + in_pr\n",
    "\n",
    "        #print('ts', ts)\n",
    "        ts = self.embd_ts(ts)\n",
    "        out = out + ts\n",
    "        \n",
    "        out = out.permute(1,0,2)                                    # (n,b,d)\n",
    "        # print('pre multi', out.shape )\n",
    "        n,_,_ = out.shape\n",
    "\n",
    "        #Multihead attention M1                                     ## todo verify if E to passed as q,k,v\n",
    "        out = self.layer_norm1( out )\n",
    "        skip_out = out\n",
    "        out, attn_wt = self.multi_de1( out , out , out, \n",
    "                                     attn_mask=get_mask(seq_len=n)) # attention mask upper triangular\n",
    "        out = skip_out + out                                        # skip connection\n",
    "\n",
    "        #Multihead attention M2                                     ## todo verify if E to passed as q,k,v\n",
    "        en_out = en_out.permute(1,0,2)                              # (b,n,d)-->(n,b,d)\n",
    "        en_out = self.layer_norm2( en_out )\n",
    "        skip_out = out\n",
    "        out, attn_wt = self.multi_de2( out , en_out , en_out,\n",
    "                                    attn_mask=get_mask(seq_len=n))  # attention mask upper triangular\n",
    "        out = out + skip_out\n",
    "\n",
    "        #feed forward\n",
    "        out = out.permute(1,0,2)                                    # (b,n,d)\n",
    "        out = self.layer_norm3( out )                               # Layer norm \n",
    "        skip_out = out\n",
    "        out = self.ffn_en( out )                                    \n",
    "        out = out + skip_out                                        # skip connection\n",
    "\n",
    "        return out\n",
    "\n",
    "def get_clones(module, N):\n",
    "    return nn.ModuleList([copy.deepcopy(module) for i in range(N)])\n",
    "\n",
    "\n",
    "def get_mask(seq_len):\n",
    "    ##todo add this to device\n",
    "    return torch.from_numpy( np.triu(np.ones((seq_len ,seq_len)), k=1).astype('bool')).to(device) \n",
    "\n",
    "def get_pos(seq_len):\n",
    "    # use sine positional embeddinds\n",
    "    return torch.arange( seq_len ).unsqueeze(0).to(device) \n",
    "\n",
    "class saint(nn.Module):\n",
    "    def __init__(self,dim_model,num_en, num_de ,heads_en, total_ex ,total_cat,total_in,heads_de,seq_len ):\n",
    "        super().__init__( )\n",
    "\n",
    "        self.num_en = num_en\n",
    "        self.num_de = num_de\n",
    "\n",
    "        self.encoder = get_clones( Encoder_block(dim_model, heads_en , total_ex ,total_cat,seq_len) , num_en)\n",
    "        self.decoder = get_clones( Decoder_block(dim_model ,total_in, heads_de,seq_len)             , num_de)\n",
    "\n",
    "        self.out = nn.Linear(in_features= dim_model , out_features=1)\n",
    "    \n",
    "    #def forward(self,in_ex, in_cat, in_pr, in_in, ts):\n",
    "    def forward(self,in_ex, in_cat, in_in, ts):\n",
    "        #print(in_ex.shape, in_cat.shape, in_in.shape)\n",
    "\n",
    "        ## pass through each of the encoder blocks in sequence\n",
    "        first_block = True\n",
    "        for x in range(self.num_en):\n",
    "            if x>=1:\n",
    "                first_block = False\n",
    "            #in_ex = self.encoder[x]( in_ex, in_cat , in_pr, first_block=first_block)\n",
    "            in_ex = self.encoder[x]( in_ex, in_cat, first_block=first_block)\n",
    "            in_cat = in_ex                                  # passing same output as q,k,v to next encoder block\n",
    "\n",
    "        \n",
    "        ## pass through each decoder blocks in sequence\n",
    "        first_block = True\n",
    "        for x in range(self.num_de):\n",
    "            if x>=1:\n",
    "                first_block = False\n",
    "            #in_in = self.decoder[x]( in_in , in_ex, in_pr, ts, first_block=first_block )\n",
    "            in_in = self.decoder[x]( in_in , in_ex, ts, first_block=first_block )\n",
    "\n",
    "        ## Output layer\n",
    "        return self.out( in_in ).squeeze(-1)"
   ]
  },
  {
   "cell_type": "code",
   "execution_count": 45,
   "metadata": {
    "execution": {
     "iopub.execute_input": "2021-01-07T07:34:35.792949Z",
     "iopub.status.busy": "2021-01-07T07:34:35.792322Z",
     "iopub.status.idle": "2021-01-07T07:37:11.163329Z",
     "shell.execute_reply": "2021-01-07T07:37:11.164121Z"
    },
    "papermill": {
     "duration": 155.415806,
     "end_time": "2021-01-07T07:37:11.164334",
     "exception": false,
     "start_time": "2021-01-07T07:34:35.748528",
     "status": "completed"
    },
    "tags": []
   },
   "outputs": [
    {
     "name": "stdout",
     "output_type": "stream",
     "text": [
      "CPU times: user 2min 27s, sys: 2.69 s, total: 2min 30s\n",
      "Wall time: 2min 35s\n"
     ]
    }
   ],
   "source": [
    "%%time\n",
    "\n",
    "skills = joblib.load(\"/kaggle/input/riiid-sakt-model-dataset-public/skills.pkl.zip\")\n",
    "n_skill = len(skills) + 1\n",
    "group = joblib.load(\"/kaggle/input/sakt-models/test_group.pkl.lzma\")"
   ]
  },
  {
   "cell_type": "code",
   "execution_count": 46,
   "metadata": {
    "execution": {
     "iopub.execute_input": "2021-01-07T07:37:11.717173Z",
     "iopub.status.busy": "2021-01-07T07:37:11.716181Z",
     "iopub.status.idle": "2021-01-07T07:37:19.444719Z",
     "shell.execute_reply": "2021-01-07T07:37:19.443828Z"
    },
    "papermill": {
     "duration": 8.204559,
     "end_time": "2021-01-07T07:37:19.444829",
     "exception": false,
     "start_time": "2021-01-07T07:37:11.240270",
     "status": "completed"
    },
    "tags": []
   },
   "outputs": [
    {
     "name": "stdout",
     "output_type": "stream",
     "text": [
      "CPU times: user 1.61 s, sys: 1.17 s, total: 2.78 s\n",
      "Wall time: 8.12 s\n"
     ]
    },
    {
     "data": {
      "text/plain": [
       "saint(\n",
       "  (encoder): ModuleList(\n",
       "    (0): Encoder_block(\n",
       "      (embd_ex): Embedding(13524, 256)\n",
       "      (embd_cat): Embedding(8, 256)\n",
       "      (embd_pos): Embedding(200, 256)\n",
       "      (multi_en): MultiheadAttention(\n",
       "        (out_proj): _LinearWithBias(in_features=256, out_features=256, bias=True)\n",
       "      )\n",
       "      (ffn_en): Feed_Forward_block(\n",
       "        (layer1): Linear(in_features=256, out_features=256, bias=True)\n",
       "        (layer2): Linear(in_features=256, out_features=256, bias=True)\n",
       "      )\n",
       "      (layer_norm1): LayerNorm((256,), eps=1e-05, elementwise_affine=True)\n",
       "      (layer_norm2): LayerNorm((256,), eps=1e-05, elementwise_affine=True)\n",
       "    )\n",
       "    (1): Encoder_block(\n",
       "      (embd_ex): Embedding(13524, 256)\n",
       "      (embd_cat): Embedding(8, 256)\n",
       "      (embd_pos): Embedding(200, 256)\n",
       "      (multi_en): MultiheadAttention(\n",
       "        (out_proj): _LinearWithBias(in_features=256, out_features=256, bias=True)\n",
       "      )\n",
       "      (ffn_en): Feed_Forward_block(\n",
       "        (layer1): Linear(in_features=256, out_features=256, bias=True)\n",
       "        (layer2): Linear(in_features=256, out_features=256, bias=True)\n",
       "      )\n",
       "      (layer_norm1): LayerNorm((256,), eps=1e-05, elementwise_affine=True)\n",
       "      (layer_norm2): LayerNorm((256,), eps=1e-05, elementwise_affine=True)\n",
       "    )\n",
       "    (2): Encoder_block(\n",
       "      (embd_ex): Embedding(13524, 256)\n",
       "      (embd_cat): Embedding(8, 256)\n",
       "      (embd_pos): Embedding(200, 256)\n",
       "      (multi_en): MultiheadAttention(\n",
       "        (out_proj): _LinearWithBias(in_features=256, out_features=256, bias=True)\n",
       "      )\n",
       "      (ffn_en): Feed_Forward_block(\n",
       "        (layer1): Linear(in_features=256, out_features=256, bias=True)\n",
       "        (layer2): Linear(in_features=256, out_features=256, bias=True)\n",
       "      )\n",
       "      (layer_norm1): LayerNorm((256,), eps=1e-05, elementwise_affine=True)\n",
       "      (layer_norm2): LayerNorm((256,), eps=1e-05, elementwise_affine=True)\n",
       "    )\n",
       "    (3): Encoder_block(\n",
       "      (embd_ex): Embedding(13524, 256)\n",
       "      (embd_cat): Embedding(8, 256)\n",
       "      (embd_pos): Embedding(200, 256)\n",
       "      (multi_en): MultiheadAttention(\n",
       "        (out_proj): _LinearWithBias(in_features=256, out_features=256, bias=True)\n",
       "      )\n",
       "      (ffn_en): Feed_Forward_block(\n",
       "        (layer1): Linear(in_features=256, out_features=256, bias=True)\n",
       "        (layer2): Linear(in_features=256, out_features=256, bias=True)\n",
       "      )\n",
       "      (layer_norm1): LayerNorm((256,), eps=1e-05, elementwise_affine=True)\n",
       "      (layer_norm2): LayerNorm((256,), eps=1e-05, elementwise_affine=True)\n",
       "    )\n",
       "  )\n",
       "  (decoder): ModuleList(\n",
       "    (0): Decoder_block(\n",
       "      (embd_in): Embedding(27049, 256)\n",
       "      (embd_pos): Embedding(200, 256)\n",
       "      (embd_ts): Embedding(150, 256)\n",
       "      (multi_de1): MultiheadAttention(\n",
       "        (out_proj): _LinearWithBias(in_features=256, out_features=256, bias=True)\n",
       "      )\n",
       "      (multi_de2): MultiheadAttention(\n",
       "        (out_proj): _LinearWithBias(in_features=256, out_features=256, bias=True)\n",
       "      )\n",
       "      (ffn_en): Feed_Forward_block(\n",
       "        (layer1): Linear(in_features=256, out_features=256, bias=True)\n",
       "        (layer2): Linear(in_features=256, out_features=256, bias=True)\n",
       "      )\n",
       "      (layer_norm1): LayerNorm((256,), eps=1e-05, elementwise_affine=True)\n",
       "      (layer_norm2): LayerNorm((256,), eps=1e-05, elementwise_affine=True)\n",
       "      (layer_norm3): LayerNorm((256,), eps=1e-05, elementwise_affine=True)\n",
       "    )\n",
       "    (1): Decoder_block(\n",
       "      (embd_in): Embedding(27049, 256)\n",
       "      (embd_pos): Embedding(200, 256)\n",
       "      (embd_ts): Embedding(150, 256)\n",
       "      (multi_de1): MultiheadAttention(\n",
       "        (out_proj): _LinearWithBias(in_features=256, out_features=256, bias=True)\n",
       "      )\n",
       "      (multi_de2): MultiheadAttention(\n",
       "        (out_proj): _LinearWithBias(in_features=256, out_features=256, bias=True)\n",
       "      )\n",
       "      (ffn_en): Feed_Forward_block(\n",
       "        (layer1): Linear(in_features=256, out_features=256, bias=True)\n",
       "        (layer2): Linear(in_features=256, out_features=256, bias=True)\n",
       "      )\n",
       "      (layer_norm1): LayerNorm((256,), eps=1e-05, elementwise_affine=True)\n",
       "      (layer_norm2): LayerNorm((256,), eps=1e-05, elementwise_affine=True)\n",
       "      (layer_norm3): LayerNorm((256,), eps=1e-05, elementwise_affine=True)\n",
       "    )\n",
       "    (2): Decoder_block(\n",
       "      (embd_in): Embedding(27049, 256)\n",
       "      (embd_pos): Embedding(200, 256)\n",
       "      (embd_ts): Embedding(150, 256)\n",
       "      (multi_de1): MultiheadAttention(\n",
       "        (out_proj): _LinearWithBias(in_features=256, out_features=256, bias=True)\n",
       "      )\n",
       "      (multi_de2): MultiheadAttention(\n",
       "        (out_proj): _LinearWithBias(in_features=256, out_features=256, bias=True)\n",
       "      )\n",
       "      (ffn_en): Feed_Forward_block(\n",
       "        (layer1): Linear(in_features=256, out_features=256, bias=True)\n",
       "        (layer2): Linear(in_features=256, out_features=256, bias=True)\n",
       "      )\n",
       "      (layer_norm1): LayerNorm((256,), eps=1e-05, elementwise_affine=True)\n",
       "      (layer_norm2): LayerNorm((256,), eps=1e-05, elementwise_affine=True)\n",
       "      (layer_norm3): LayerNorm((256,), eps=1e-05, elementwise_affine=True)\n",
       "    )\n",
       "    (3): Decoder_block(\n",
       "      (embd_in): Embedding(27049, 256)\n",
       "      (embd_pos): Embedding(200, 256)\n",
       "      (embd_ts): Embedding(150, 256)\n",
       "      (multi_de1): MultiheadAttention(\n",
       "        (out_proj): _LinearWithBias(in_features=256, out_features=256, bias=True)\n",
       "      )\n",
       "      (multi_de2): MultiheadAttention(\n",
       "        (out_proj): _LinearWithBias(in_features=256, out_features=256, bias=True)\n",
       "      )\n",
       "      (ffn_en): Feed_Forward_block(\n",
       "        (layer1): Linear(in_features=256, out_features=256, bias=True)\n",
       "        (layer2): Linear(in_features=256, out_features=256, bias=True)\n",
       "      )\n",
       "      (layer_norm1): LayerNorm((256,), eps=1e-05, elementwise_affine=True)\n",
       "      (layer_norm2): LayerNorm((256,), eps=1e-05, elementwise_affine=True)\n",
       "      (layer_norm3): LayerNorm((256,), eps=1e-05, elementwise_affine=True)\n",
       "    )\n",
       "  )\n",
       "  (out): Linear(in_features=256, out_features=1, bias=True)\n",
       ")"
      ]
     },
     "execution_count": 46,
     "metadata": {},
     "output_type": "execute_result"
    }
   ],
   "source": [
    "%%time\n",
    "\n",
    "device = torch.device(\"cuda\" if torch.cuda.is_available() else \"cpu\")\n",
    "#device = torch.device(\"cpu\")\n",
    "\n",
    "total_cat=7+1\n",
    "total_in=2*n_skill+1\n",
    "nn_model = saint(dim_model=256,\n",
    "            num_en=4,\n",
    "            num_de=4,\n",
    "            heads_en=4,\n",
    "            heads_de=4,\n",
    "            total_ex=n_skill,\n",
    "            total_cat=total_cat,\n",
    "            total_in=total_in,\n",
    "            seq_len=MAX_SEQ\n",
    "            )\n",
    "try:\n",
    "    nn_model.load_state_dict(torch.load(\"/kaggle/input/sakt-models/saint_model_200_256_0.785371.pt\"))\n",
    "except:\n",
    "    nn_model.load_state_dict(torch.load(\"/kaggle/input/sakt-models/saint_model_200_256_0.785371.pt\", map_location='cpu'))\n",
    "nn_model.to(device)\n",
    "nn_model.eval()"
   ]
  },
  {
   "cell_type": "code",
   "execution_count": 47,
   "metadata": {
    "execution": {
     "iopub.execute_input": "2021-01-07T07:37:19.552204Z",
     "iopub.status.busy": "2021-01-07T07:37:19.541630Z",
     "iopub.status.idle": "2021-01-07T07:37:19.554910Z",
     "shell.execute_reply": "2021-01-07T07:37:19.554418Z"
    },
    "papermill": {
     "duration": 0.068096,
     "end_time": "2021-01-07T07:37:19.555008",
     "exception": false,
     "start_time": "2021-01-07T07:37:19.486912",
     "status": "completed"
    },
    "tags": []
   },
   "outputs": [],
   "source": [
    "class TestDataset(Dataset):\n",
    "    def __init__(self, samples, test_df, skills, max_seq=MAX_SEQ): \n",
    "        super(TestDataset, self).__init__()\n",
    "        self.samples = samples\n",
    "        self.test_df = test_df\n",
    "        self.skills = skills\n",
    "        self.n_skill = len(skills) + 1\n",
    "        self.max_seq = max_seq\n",
    "        self.q = np.zeros(self.max_seq, dtype=int)\n",
    "        self.x = np.zeros(self.max_seq, dtype=int)\n",
    "        self.qa = np.zeros(self.max_seq, dtype=int)\n",
    "        self.ts = np.zeros(self.max_seq, dtype=np.int64)\n",
    "        #self.pr = np.zeros(self.max_seq, dtype=int)\n",
    "        self.pa = np.zeros(self.max_seq, dtype=int)\n",
    "\n",
    "    def __len__(self):\n",
    "        return self.test_df.shape[0]\n",
    "\n",
    "    def __getitem__(self, index):\n",
    "        test_info = self.test_df.iloc[index]\n",
    "\n",
    "        user_id = test_info[\"user_id\"]\n",
    "        target_id = test_info[\"content_id\"]\n",
    "\n",
    "        timestamp = test_info[\"timestamp\"]\n",
    "        #prior = test_info[\"prior_question_had_explanation\"]\n",
    "        part = test_info['part']\n",
    "\n",
    "        if user_id in self.samples:\n",
    "            #q, qa, ts, pr, pa = self.samples[user_id]\n",
    "            q, qa, ts, pa = self.samples[user_id]\n",
    "\n",
    "            # concat \n",
    "            q = np.append(q, [target_id])\n",
    "            qa = np.append(qa, [0])\n",
    "            ts = np.append(ts, [timestamp])\n",
    "            #pr = np.append(pr, [prior])\n",
    "            pa = np.append(pa, [part])\n",
    "\n",
    "            ts[1:] = ts[1:]-ts[:-1]\n",
    "            ts[0] = 0\n",
    "\n",
    "            # slice\n",
    "            q = q[-self.max_seq:]\n",
    "            qa = qa[-self.max_seq:]\n",
    "            ts = ts[-self.max_seq:]\n",
    "            #pr = pr[-self.max_seq:]\n",
    "            pa = pa[-self.max_seq:]\n",
    "\n",
    "            # construct interaction\n",
    "            q += 1\n",
    "            x = q + qa * self.n_skill\n",
    "            x[1:] = x[:-1]\n",
    "            x[0] = 0\n",
    "\n",
    "            # calculate lag\n",
    "            ts = ts // 60000\n",
    "            ts[np.logical_and(ts>=5, ts<10)]=5\n",
    "            for i in range(1, 144, 1):\n",
    "                ts[np.where((ts>=i*10) & (ts<(i+1)*10))] = 5+i\n",
    "            ts[np.where(ts>=1440)] = 149\n",
    "\n",
    "            # pad\n",
    "            pad_cnt = len(q) % self.max_seq\n",
    "            if pad_cnt:\n",
    "                pad_cnt = self.max_seq - pad_cnt\n",
    "                padding = np.zeros(pad_cnt)\n",
    "                q = np.insert(q, 0, padding)\n",
    "                x = np.insert(x, 0, padding)\n",
    "                ts = np.insert(ts, 0, padding)\n",
    "                #pr = np.insert(pr, 0, padding)\n",
    "                pa = np.insert(pa, 0, padding)\n",
    "            return x, q, pa, ts\n",
    "        else:\n",
    "            self.q[-1] = target_id + 1\n",
    "            #pr[-1] = prior\n",
    "            self.pa[-1] = part\n",
    "            return self.x, self.q, self.pa, self.ts"
   ]
  },
  {
   "cell_type": "code",
   "execution_count": 48,
   "metadata": {
    "execution": {
     "iopub.execute_input": "2021-01-07T07:37:19.645515Z",
     "iopub.status.busy": "2021-01-07T07:37:19.644817Z",
     "iopub.status.idle": "2021-01-07T07:37:19.647827Z",
     "shell.execute_reply": "2021-01-07T07:37:19.647362Z"
    },
    "papermill": {
     "duration": 0.051635,
     "end_time": "2021-01-07T07:37:19.647943",
     "exception": false,
     "start_time": "2021-01-07T07:37:19.596308",
     "status": "completed"
    },
    "tags": []
   },
   "outputs": [],
   "source": [
    "FEATS = ['prior_question_had_explanation',\n",
    " 'part',\n",
    " 'tags_num',\n",
    " 'community',\n",
    " 'answered_correctly_avg_c',\n",
    " 'answered_correctly_std_c',\n",
    " 'answered_correctly_sum_c',\n",
    " 'answered_correctly_sum_m',\n",
    " 'answered_correctly_avg_b',\n",
    " 'bundle_id',\n",
    " 'user_correct_cumsum',\n",
    " 'user_correct_cumcount',\n",
    " 'user_correctness',\n",
    " 'attempt',\n",
    " 'hmean_user_content_accuracy',\n",
    " 'prior_question_elapsed_time_mean',\n",
    " 'answered_correctly_avg_p',\n",
    " 'answered_correctly_sum_p',\n",
    " 'performance',\n",
    " 'lag_time',\n",
    " 'prior_lag_time',\n",
    " 'explanation_mean',\n",
    " 'explanation_cumsum',\n",
    " 'answered_correctly_avg_t',\n",
    " 'answered_correctly_sum_t',\n",
    " 'lag_time2','lag_time3','elapsed_time_question',\n",
    " 'user_lecture_sum',\n",
    " 'user_lecture_lv', 'hard_question_sum', 'middle_question_sum',\n",
    " 'easy_question_sum', 'hard_question_mean', 'middle_question_mean',\n",
    " 'easy_question_mean','tags_lsi','answered_correctly_avg_g','answered_correctly_sum_g',\n",
    " 'tag_cor_mean','tag_cor_max','tag_cor_min','user_bundle_first','user_tag_first',\n",
    " 'lag_time_avg_c', 'lag_time_avg_m', 'lag_time_avg_p', 'lag_time_avg_b',\n",
    " 'lag_time_avg_t', 'lag_time_avg_g']"
   ]
  },
  {
   "cell_type": "code",
   "execution_count": 49,
   "metadata": {
    "execution": {
     "iopub.execute_input": "2021-01-07T07:37:19.733895Z",
     "iopub.status.busy": "2021-01-07T07:37:19.733377Z",
     "iopub.status.idle": "2021-01-07T07:37:50.834862Z",
     "shell.execute_reply": "2021-01-07T07:37:50.835542Z"
    },
    "papermill": {
     "duration": 31.146888,
     "end_time": "2021-01-07T07:37:50.835716",
     "exception": false,
     "start_time": "2021-01-07T07:37:19.688828",
     "status": "completed"
    },
    "tags": []
   },
   "outputs": [
    {
     "name": "stdout",
     "output_type": "stream",
     "text": [
      "CPU times: user 24.1 s, sys: 1.52 s, total: 25.6 s\n",
      "Wall time: 31.1 s\n"
     ]
    }
   ],
   "source": [
    "%%time\n",
    "\n",
    "model = joblib.load('../input/mydata/lgbm.pkl.lzma')"
   ]
  },
  {
   "cell_type": "code",
   "execution_count": 50,
   "metadata": {
    "execution": {
     "iopub.execute_input": "2021-01-07T07:37:50.948067Z",
     "iopub.status.busy": "2021-01-07T07:37:50.937564Z",
     "iopub.status.idle": "2021-01-07T07:37:55.315311Z",
     "shell.execute_reply": "2021-01-07T07:37:55.314320Z"
    },
    "papermill": {
     "duration": 4.437713,
     "end_time": "2021-01-07T07:37:55.315485",
     "exception": false,
     "start_time": "2021-01-07T07:37:50.877772",
     "status": "completed"
    },
    "tags": []
   },
   "outputs": [
    {
     "name": "stdout",
     "output_type": "stream",
     "text": [
      "46.5\n"
     ]
    }
   ],
   "source": [
    "previous_lgbm_test_df = None\n",
    "previous_nn_test_df = None\n",
    "nn_question = pd.read_csv('../input/riiid-test-answer-prediction/questions.csv')[['question_id', 'part']]\n",
    "gc.collect()\n",
    "print(psutil.virtual_memory().percent)\n",
    "for (test_df, sample_prediction_df) in iter_test:\n",
    "    nn_test_df = pd.merge(test_df, nn_question, left_on='content_id', right_on='question_id', how='left')\n",
    "\n",
    "    if (previous_nn_test_df is not None):\n",
    "        ans = eval(nn_test_df[\"prior_group_answers_correct\"].iloc[0])\n",
    "        previous_nn_test_df['answered_correctly'] = ans\n",
    "        previous_lgbm_test_df['answered_correctly'] = ans\n",
    "\n",
    "        #lightgbm\n",
    "        update_user_feats(previous_lgbm_test_df, user_sum_dict,user_count_dict)\n",
    "        \n",
    "        #dnn\n",
    "        previous_nn_test_df = previous_nn_test_df[previous_nn_test_df.content_type_id == False]\n",
    "        \n",
    "        prev_group = previous_nn_test_df[['user_id', 'content_id', 'answered_correctly', 'timestamp', 'part']].groupby('user_id').apply(lambda r: (\n",
    "            r['content_id'].values,\n",
    "            r['answered_correctly'].values,\n",
    "            r['timestamp'].values,\n",
    "            r['part'].values))\n",
    "\n",
    "        for prev_user_id in prev_group.index:\n",
    "            if prev_user_id in group:\n",
    "                group[prev_user_id] = (\n",
    "                    np.append(group[prev_user_id][0], prev_group[prev_user_id][0])[-MAX_SEQ:], \n",
    "                    np.append(group[prev_user_id][1], prev_group[prev_user_id][1])[-MAX_SEQ:], \n",
    "                    np.append(group[prev_user_id][2], prev_group[prev_user_id][2])[-MAX_SEQ:], \n",
    "                    np.append(group[prev_user_id][3], prev_group[prev_user_id][3])[-MAX_SEQ:], \n",
    "                )\n",
    " \n",
    "            else:\n",
    "                group[prev_user_id] = (\n",
    "                    prev_group[prev_user_id][0][-MAX_SEQ:], \n",
    "                    prev_group[prev_user_id][1][-MAX_SEQ:], \n",
    "                    prev_group[prev_user_id][2][-MAX_SEQ:], \n",
    "                    prev_group[prev_user_id][3][-MAX_SEQ:], \n",
    "                )\n",
    "            \n",
    "    previous_nn_test_df = nn_test_df.copy()\n",
    "    previous_lgbm_test_df = test_df.copy()\n",
    "\n",
    "    test_df = add_leature(test_df.reset_index(drop=True),user_lecture_sum,user_lecture_count)\n",
    "    test_df = test_df[test_df['content_type_id'] == 0].reset_index(drop=True)\n",
    "\n",
    "    ##dnn\n",
    "    nn_test_df = nn_test_df[test_df.content_type_id == False]\n",
    "    test_dataset = TestDataset(group, nn_test_df, skills)\n",
    "    test_dataloader = DataLoader(test_dataset, batch_size=51200, shuffle=False)\n",
    "    \n",
    "    outs = []\n",
    "\n",
    "    for item in test_dataloader:\n",
    "        x = item[0].to(device).long()\n",
    "        target_id = item[1].to(device).long()\n",
    "        pa = item[2].to(device).long()\n",
    "        ts = item[3].to(device).long()\n",
    "\n",
    "        with torch.no_grad():\n",
    "            output = nn_model(target_id, pa, x, ts)\n",
    "        outs.extend(torch.sigmoid(output)[:, -1].view(-1).data.cpu().numpy())\n",
    "    \n",
    "    ##lightgbm\n",
    "    test_df['prior_question_had_explanation'] = test_df.prior_question_had_explanation.fillna(False).astype('int8')\n",
    "    test_df['prior_question_elapsed_time_mean'] = test_df.prior_question_elapsed_time.fillna(prior_question_elapsed_time_mean)\n",
    "    test_df = add_explanation(test_df,explanation_sum_dict,explanation_count_dict)\n",
    "    test_df = add_user_feats_without_update(test_df, user_sum_dict, user_count_dict)\n",
    "    \n",
    "    test_df = pd.merge(test_df, question, left_on='content_id', right_on='question_id', how='left')\n",
    "    test_df = pd.merge(test_df, answered_correctly_avg_c, on='content_id',  how=\"left\")\n",
    "    test_df = pd.merge(test_df, answered_correctly_std_c, on='content_id',  how=\"left\")\n",
    "    test_df = pd.merge(test_df, answered_correctly_sum_c, on='content_id',  how=\"left\")\n",
    "    test_df = pd.merge(test_df, answered_correctly_sum_m, on='community',  how=\"left\")\n",
    "    test_df = pd.merge(test_df, answered_correctly_avg_p, on='part',  how=\"left\")\n",
    "    test_df = pd.merge(test_df, answered_correctly_sum_p, on='part',  how=\"left\")\n",
    "    test_df = pd.merge(test_df, answered_correctly_avg_b, on='bundle_id',  how=\"left\")\n",
    "    test_df = pd.merge(test_df, answered_correctly_avg_t, on='task_container_id',  how=\"left\")\n",
    "    test_df = pd.merge(test_df, answered_correctly_sum_t, on='task_container_id',  how=\"left\")\n",
    "    test_df = pd.merge(test_df, answered_correctly_avg_g, on='tags_lsi',  how=\"left\")\n",
    "    test_df = pd.merge(test_df, answered_correctly_sum_g, on='tags_lsi',  how=\"left\")\n",
    "    \n",
    "    test_df = pd.merge(test_df, lag_time_avg_b, on='bundle_id',  how=\"left\")\n",
    "    test_df = pd.merge(test_df, lag_time_avg_c, on='content_id',  how=\"left\")\n",
    "    test_df = pd.merge(test_df, lag_time_avg_g, on='tags_lsi',  how=\"left\")\n",
    "    test_df = pd.merge(test_df, lag_time_avg_m, on='community',  how=\"left\")\n",
    "    test_df = pd.merge(test_df, lag_time_avg_p, on='part',  how=\"left\")\n",
    "    test_df = pd.merge(test_df, lag_time_avg_t, on='task_container_id',  how=\"left\")\n",
    "\n",
    "    test_df = add_first(test_df,user_bundle_first_dict,user_tag_first_dict)\n",
    "    test_df = add_leavel(test_df,hard_question_sum_dict,middle_question_sum_dict,easy_question_sum_dict,question_cnt_dict)\n",
    "    test_df['hmean_user_content_accuracy'] = 2 * (\n",
    "        (test_df['user_correctness'] * test_df['answered_correctly_avg_c']) /\n",
    "        (test_df['user_correctness'] + test_df['answered_correctly_avg_c'])\n",
    "    )\n",
    "    \n",
    "    test_df['performance'] = test_df['answered_correctly_avg_c'] - test_df['user_correctness']\n",
    "    test_df['timestamp'] = test_df['timestamp']/(1000*3600)\n",
    "    test_df = add_time(test_df, time_last_dict,time_last_dict2,time_last_dict3)\n",
    "    \n",
    "    test_df['prior_question_elapsed_time_mean'] = test_df['prior_question_elapsed_time_mean']/(1000*3600)\n",
    "    test_df = add_prior_time(test_df,prior_time_last_dict)\n",
    "    test_df['elapsed_time_question'] = test_df['lag_time'] - test_df['prior_question_elapsed_time_mean'] \n",
    "    test_df[\"attempt\"] = test_df[[\"user_id\", \"content_id\"]].apply(lambda row: get_max_attempt(row[\"user_id\"], row[\"content_id\"]), axis=1)\n",
    "    \n",
    "    ##blending\n",
    "    test_df['answered_correctly'] = 0.5*model.predict(test_df[FEATS].values) + 0.5*np.array(outs)\n",
    "\n",
    "    env.predict(test_df[['row_id', 'answered_correctly']])\n",
    "    \n",
    "    _ = gc.collect()"
   ]
  }
 ],
 "metadata": {
  "kernelspec": {
   "display_name": "Python 3",
   "language": "python",
   "name": "python3"
  },
  "language_info": {
   "codemirror_mode": {
    "name": "ipython",
    "version": 3
   },
   "file_extension": ".py",
   "mimetype": "text/x-python",
   "name": "python",
   "nbconvert_exporter": "python",
   "pygments_lexer": "ipython3",
   "version": "3.7.6"
  },
  "papermill": {
   "duration": 419.077432,
   "end_time": "2021-01-07T07:37:57.088638",
   "environment_variables": {},
   "exception": null,
   "input_path": "__notebook__.ipynb",
   "output_path": "__notebook__.ipynb",
   "parameters": {},
   "start_time": "2021-01-07T07:30:58.011206",
   "version": "2.1.0"
  },
  "widgets": {
   "application/vnd.jupyter.widget-state+json": {
    "state": {
     "014dd5b62cd14763904000b851353b4c": {
      "model_module": "@jupyter-widgets/controls",
      "model_module_version": "1.5.0",
      "model_name": "DescriptionStyleModel",
      "state": {
       "_model_module": "@jupyter-widgets/controls",
       "_model_module_version": "1.5.0",
       "_model_name": "DescriptionStyleModel",
       "_view_count": null,
       "_view_module": "@jupyter-widgets/base",
       "_view_module_version": "1.2.0",
       "_view_name": "StyleView",
       "description_width": ""
      }
     },
     "098e46327aeb45a084fbe5abd5e5d60a": {
      "model_module": "@jupyter-widgets/controls",
      "model_module_version": "1.5.0",
      "model_name": "DescriptionStyleModel",
      "state": {
       "_model_module": "@jupyter-widgets/controls",
       "_model_module_version": "1.5.0",
       "_model_name": "DescriptionStyleModel",
       "_view_count": null,
       "_view_module": "@jupyter-widgets/base",
       "_view_module_version": "1.2.0",
       "_view_name": "StyleView",
       "description_width": ""
      }
     },
     "0b668413de7d4e11a4733826b8c2adaa": {
      "model_module": "@jupyter-widgets/base",
      "model_module_version": "1.2.0",
      "model_name": "LayoutModel",
      "state": {
       "_model_module": "@jupyter-widgets/base",
       "_model_module_version": "1.2.0",
       "_model_name": "LayoutModel",
       "_view_count": null,
       "_view_module": "@jupyter-widgets/base",
       "_view_module_version": "1.2.0",
       "_view_name": "LayoutView",
       "align_content": null,
       "align_items": null,
       "align_self": null,
       "border": null,
       "bottom": null,
       "display": null,
       "flex": null,
       "flex_flow": null,
       "grid_area": null,
       "grid_auto_columns": null,
       "grid_auto_flow": null,
       "grid_auto_rows": null,
       "grid_column": null,
       "grid_gap": null,
       "grid_row": null,
       "grid_template_areas": null,
       "grid_template_columns": null,
       "grid_template_rows": null,
       "height": null,
       "justify_content": null,
       "justify_items": null,
       "left": null,
       "margin": null,
       "max_height": null,
       "max_width": null,
       "min_height": null,
       "min_width": null,
       "object_fit": null,
       "object_position": null,
       "order": null,
       "overflow": null,
       "overflow_x": null,
       "overflow_y": null,
       "padding": null,
       "right": null,
       "top": null,
       "visibility": null,
       "width": null
      }
     },
     "0bd4034532334c138ca48f4242158642": {
      "model_module": "@jupyter-widgets/controls",
      "model_module_version": "1.5.0",
      "model_name": "FloatProgressModel",
      "state": {
       "_dom_classes": [],
       "_model_module": "@jupyter-widgets/controls",
       "_model_module_version": "1.5.0",
       "_model_name": "FloatProgressModel",
       "_view_count": null,
       "_view_module": "@jupyter-widgets/controls",
       "_view_module_version": "1.5.0",
       "_view_name": "ProgressView",
       "bar_style": "success",
       "description": "100%",
       "description_tooltip": null,
       "layout": "IPY_MODEL_e43a6fd531c344788f7bacca08653b89",
       "max": 393656.0,
       "min": 0.0,
       "orientation": "horizontal",
       "style": "IPY_MODEL_68b9f527ab93462da29533fdcf3afd5b",
       "value": 393656.0
      }
     },
     "0c3d648ac5874c6ab2010ae9ff60c962": {
      "model_module": "@jupyter-widgets/controls",
      "model_module_version": "1.5.0",
      "model_name": "DescriptionStyleModel",
      "state": {
       "_model_module": "@jupyter-widgets/controls",
       "_model_module_version": "1.5.0",
       "_model_name": "DescriptionStyleModel",
       "_view_count": null,
       "_view_module": "@jupyter-widgets/base",
       "_view_module_version": "1.2.0",
       "_view_name": "StyleView",
       "description_width": ""
      }
     },
     "100fa75d760a4debab3e3dc11cdcb767": {
      "model_module": "@jupyter-widgets/controls",
      "model_module_version": "1.5.0",
      "model_name": "DescriptionStyleModel",
      "state": {
       "_model_module": "@jupyter-widgets/controls",
       "_model_module_version": "1.5.0",
       "_model_name": "DescriptionStyleModel",
       "_view_count": null,
       "_view_module": "@jupyter-widgets/base",
       "_view_module_version": "1.2.0",
       "_view_name": "StyleView",
       "description_width": ""
      }
     },
     "16d4d32196ea45478566801536e45a19": {
      "model_module": "@jupyter-widgets/controls",
      "model_module_version": "1.5.0",
      "model_name": "HBoxModel",
      "state": {
       "_dom_classes": [],
       "_model_module": "@jupyter-widgets/controls",
       "_model_module_version": "1.5.0",
       "_model_name": "HBoxModel",
       "_view_count": null,
       "_view_module": "@jupyter-widgets/controls",
       "_view_module_version": "1.5.0",
       "_view_name": "HBoxView",
       "box_style": "",
       "children": [
        "IPY_MODEL_a176152f2a824dbf8119a589d5d25e04",
        "IPY_MODEL_be8a8ef4928145ab97269c21468a1068"
       ],
       "layout": "IPY_MODEL_4047ebdaeeb34154b3b2f96ff721c968"
      }
     },
     "1f865142f87c4c52a011721d438e556b": {
      "model_module": "@jupyter-widgets/controls",
      "model_module_version": "1.5.0",
      "model_name": "HTMLModel",
      "state": {
       "_dom_classes": [],
       "_model_module": "@jupyter-widgets/controls",
       "_model_module_version": "1.5.0",
       "_model_name": "HTMLModel",
       "_view_count": null,
       "_view_module": "@jupyter-widgets/controls",
       "_view_module_version": "1.5.0",
       "_view_name": "HTMLView",
       "description": "",
       "description_tooltip": null,
       "layout": "IPY_MODEL_9d026cf33d074c85b39047d13078a755",
       "placeholder": "​",
       "style": "IPY_MODEL_aefcd807d0d64e708851ccabfcabb9a0",
       "value": " 393656/393656 [00:17&lt;00:00, 21915.87it/s]"
      }
     },
     "269865bf4e7941e786194be55963e643": {
      "model_module": "@jupyter-widgets/controls",
      "model_module_version": "1.5.0",
      "model_name": "FloatProgressModel",
      "state": {
       "_dom_classes": [],
       "_model_module": "@jupyter-widgets/controls",
       "_model_module_version": "1.5.0",
       "_model_name": "FloatProgressModel",
       "_view_count": null,
       "_view_module": "@jupyter-widgets/controls",
       "_view_module_version": "1.5.0",
       "_view_name": "ProgressView",
       "bar_style": "success",
       "description": "100%",
       "description_tooltip": null,
       "layout": "IPY_MODEL_4646a696a0884b2486ae3d1019fdce85",
       "max": 393656.0,
       "min": 0.0,
       "orientation": "horizontal",
       "style": "IPY_MODEL_fffa466f2b4841f59fd8c9062669becd",
       "value": 393656.0
      }
     },
     "29586763c12e4033b24c7b2c44c93db1": {
      "model_module": "@jupyter-widgets/controls",
      "model_module_version": "1.5.0",
      "model_name": "HBoxModel",
      "state": {
       "_dom_classes": [],
       "_model_module": "@jupyter-widgets/controls",
       "_model_module_version": "1.5.0",
       "_model_name": "HBoxModel",
       "_view_count": null,
       "_view_module": "@jupyter-widgets/controls",
       "_view_module_version": "1.5.0",
       "_view_name": "HBoxView",
       "box_style": "",
       "children": [
        "IPY_MODEL_5b32d9f55b2a44afa3fb698a0b967c9a",
        "IPY_MODEL_3899370c986742719b28fdd7615bb492"
       ],
       "layout": "IPY_MODEL_4cf940297f4840f8bb793d823d5bcd24"
      }
     },
     "2ce042bfcc3145ceb2519d0ec757335a": {
      "model_module": "@jupyter-widgets/controls",
      "model_module_version": "1.5.0",
      "model_name": "FloatProgressModel",
      "state": {
       "_dom_classes": [],
       "_model_module": "@jupyter-widgets/controls",
       "_model_module_version": "1.5.0",
       "_model_name": "FloatProgressModel",
       "_view_count": null,
       "_view_module": "@jupyter-widgets/controls",
       "_view_module_version": "1.5.0",
       "_view_name": "ProgressView",
       "bar_style": "success",
       "description": "100%",
       "description_tooltip": null,
       "layout": "IPY_MODEL_b6107730ab0c4dc5aafa8affd85fafe5",
       "max": 393656.0,
       "min": 0.0,
       "orientation": "horizontal",
       "style": "IPY_MODEL_52ea542806894d74ab8fa056ba3fec91",
       "value": 393656.0
      }
     },
     "2fb6cab21f2f493ca6cf35dbd799b8cf": {
      "model_module": "@jupyter-widgets/controls",
      "model_module_version": "1.5.0",
      "model_name": "ProgressStyleModel",
      "state": {
       "_model_module": "@jupyter-widgets/controls",
       "_model_module_version": "1.5.0",
       "_model_name": "ProgressStyleModel",
       "_view_count": null,
       "_view_module": "@jupyter-widgets/base",
       "_view_module_version": "1.2.0",
       "_view_name": "StyleView",
       "bar_color": null,
       "description_width": "initial"
      }
     },
     "31fe6271c6af4a599a45b0c24d59e250": {
      "model_module": "@jupyter-widgets/base",
      "model_module_version": "1.2.0",
      "model_name": "LayoutModel",
      "state": {
       "_model_module": "@jupyter-widgets/base",
       "_model_module_version": "1.2.0",
       "_model_name": "LayoutModel",
       "_view_count": null,
       "_view_module": "@jupyter-widgets/base",
       "_view_module_version": "1.2.0",
       "_view_name": "LayoutView",
       "align_content": null,
       "align_items": null,
       "align_self": null,
       "border": null,
       "bottom": null,
       "display": null,
       "flex": null,
       "flex_flow": null,
       "grid_area": null,
       "grid_auto_columns": null,
       "grid_auto_flow": null,
       "grid_auto_rows": null,
       "grid_column": null,
       "grid_gap": null,
       "grid_row": null,
       "grid_template_areas": null,
       "grid_template_columns": null,
       "grid_template_rows": null,
       "height": null,
       "justify_content": null,
       "justify_items": null,
       "left": null,
       "margin": null,
       "max_height": null,
       "max_width": null,
       "min_height": null,
       "min_width": null,
       "object_fit": null,
       "object_position": null,
       "order": null,
       "overflow": null,
       "overflow_x": null,
       "overflow_y": null,
       "padding": null,
       "right": null,
       "top": null,
       "visibility": null,
       "width": null
      }
     },
     "3899370c986742719b28fdd7615bb492": {
      "model_module": "@jupyter-widgets/controls",
      "model_module_version": "1.5.0",
      "model_name": "HTMLModel",
      "state": {
       "_dom_classes": [],
       "_model_module": "@jupyter-widgets/controls",
       "_model_module_version": "1.5.0",
       "_model_name": "HTMLModel",
       "_view_count": null,
       "_view_module": "@jupyter-widgets/controls",
       "_view_module_version": "1.5.0",
       "_view_name": "HTMLView",
       "description": "",
       "description_tooltip": null,
       "layout": "IPY_MODEL_9495b4d9b53e4738919a874833a17a9b",
       "placeholder": "​",
       "style": "IPY_MODEL_098e46327aeb45a084fbe5abd5e5d60a",
       "value": " 393656/393656 [00:01&lt;00:00, 357506.87it/s]"
      }
     },
     "4047ebdaeeb34154b3b2f96ff721c968": {
      "model_module": "@jupyter-widgets/base",
      "model_module_version": "1.2.0",
      "model_name": "LayoutModel",
      "state": {
       "_model_module": "@jupyter-widgets/base",
       "_model_module_version": "1.2.0",
       "_model_name": "LayoutModel",
       "_view_count": null,
       "_view_module": "@jupyter-widgets/base",
       "_view_module_version": "1.2.0",
       "_view_name": "LayoutView",
       "align_content": null,
       "align_items": null,
       "align_self": null,
       "border": null,
       "bottom": null,
       "display": null,
       "flex": null,
       "flex_flow": null,
       "grid_area": null,
       "grid_auto_columns": null,
       "grid_auto_flow": null,
       "grid_auto_rows": null,
       "grid_column": null,
       "grid_gap": null,
       "grid_row": null,
       "grid_template_areas": null,
       "grid_template_columns": null,
       "grid_template_rows": null,
       "height": null,
       "justify_content": null,
       "justify_items": null,
       "left": null,
       "margin": null,
       "max_height": null,
       "max_width": null,
       "min_height": null,
       "min_width": null,
       "object_fit": null,
       "object_position": null,
       "order": null,
       "overflow": null,
       "overflow_x": null,
       "overflow_y": null,
       "padding": null,
       "right": null,
       "top": null,
       "visibility": null,
       "width": null
      }
     },
     "4646a696a0884b2486ae3d1019fdce85": {
      "model_module": "@jupyter-widgets/base",
      "model_module_version": "1.2.0",
      "model_name": "LayoutModel",
      "state": {
       "_model_module": "@jupyter-widgets/base",
       "_model_module_version": "1.2.0",
       "_model_name": "LayoutModel",
       "_view_count": null,
       "_view_module": "@jupyter-widgets/base",
       "_view_module_version": "1.2.0",
       "_view_name": "LayoutView",
       "align_content": null,
       "align_items": null,
       "align_self": null,
       "border": null,
       "bottom": null,
       "display": null,
       "flex": null,
       "flex_flow": null,
       "grid_area": null,
       "grid_auto_columns": null,
       "grid_auto_flow": null,
       "grid_auto_rows": null,
       "grid_column": null,
       "grid_gap": null,
       "grid_row": null,
       "grid_template_areas": null,
       "grid_template_columns": null,
       "grid_template_rows": null,
       "height": null,
       "justify_content": null,
       "justify_items": null,
       "left": null,
       "margin": null,
       "max_height": null,
       "max_width": null,
       "min_height": null,
       "min_width": null,
       "object_fit": null,
       "object_position": null,
       "order": null,
       "overflow": null,
       "overflow_x": null,
       "overflow_y": null,
       "padding": null,
       "right": null,
       "top": null,
       "visibility": null,
       "width": null
      }
     },
     "4cf940297f4840f8bb793d823d5bcd24": {
      "model_module": "@jupyter-widgets/base",
      "model_module_version": "1.2.0",
      "model_name": "LayoutModel",
      "state": {
       "_model_module": "@jupyter-widgets/base",
       "_model_module_version": "1.2.0",
       "_model_name": "LayoutModel",
       "_view_count": null,
       "_view_module": "@jupyter-widgets/base",
       "_view_module_version": "1.2.0",
       "_view_name": "LayoutView",
       "align_content": null,
       "align_items": null,
       "align_self": null,
       "border": null,
       "bottom": null,
       "display": null,
       "flex": null,
       "flex_flow": null,
       "grid_area": null,
       "grid_auto_columns": null,
       "grid_auto_flow": null,
       "grid_auto_rows": null,
       "grid_column": null,
       "grid_gap": null,
       "grid_row": null,
       "grid_template_areas": null,
       "grid_template_columns": null,
       "grid_template_rows": null,
       "height": null,
       "justify_content": null,
       "justify_items": null,
       "left": null,
       "margin": null,
       "max_height": null,
       "max_width": null,
       "min_height": null,
       "min_width": null,
       "object_fit": null,
       "object_position": null,
       "order": null,
       "overflow": null,
       "overflow_x": null,
       "overflow_y": null,
       "padding": null,
       "right": null,
       "top": null,
       "visibility": null,
       "width": null
      }
     },
     "4e4385fc35e84e108600072408fb40bd": {
      "model_module": "@jupyter-widgets/controls",
      "model_module_version": "1.5.0",
      "model_name": "DescriptionStyleModel",
      "state": {
       "_model_module": "@jupyter-widgets/controls",
       "_model_module_version": "1.5.0",
       "_model_name": "DescriptionStyleModel",
       "_view_count": null,
       "_view_module": "@jupyter-widgets/base",
       "_view_module_version": "1.2.0",
       "_view_name": "StyleView",
       "description_width": ""
      }
     },
     "52adf706eb0c48558d911dfe1538f079": {
      "model_module": "@jupyter-widgets/controls",
      "model_module_version": "1.5.0",
      "model_name": "ProgressStyleModel",
      "state": {
       "_model_module": "@jupyter-widgets/controls",
       "_model_module_version": "1.5.0",
       "_model_name": "ProgressStyleModel",
       "_view_count": null,
       "_view_module": "@jupyter-widgets/base",
       "_view_module_version": "1.2.0",
       "_view_name": "StyleView",
       "bar_color": null,
       "description_width": "initial"
      }
     },
     "52ea542806894d74ab8fa056ba3fec91": {
      "model_module": "@jupyter-widgets/controls",
      "model_module_version": "1.5.0",
      "model_name": "ProgressStyleModel",
      "state": {
       "_model_module": "@jupyter-widgets/controls",
       "_model_module_version": "1.5.0",
       "_model_name": "ProgressStyleModel",
       "_view_count": null,
       "_view_module": "@jupyter-widgets/base",
       "_view_module_version": "1.2.0",
       "_view_name": "StyleView",
       "bar_color": null,
       "description_width": "initial"
      }
     },
     "535e0a1f473a4032bbe6f1820fc3e810": {
      "model_module": "@jupyter-widgets/controls",
      "model_module_version": "1.5.0",
      "model_name": "FloatProgressModel",
      "state": {
       "_dom_classes": [],
       "_model_module": "@jupyter-widgets/controls",
       "_model_module_version": "1.5.0",
       "_model_name": "FloatProgressModel",
       "_view_count": null,
       "_view_module": "@jupyter-widgets/controls",
       "_view_module_version": "1.5.0",
       "_view_name": "ProgressView",
       "bar_style": "success",
       "description": "100%",
       "description_tooltip": null,
       "layout": "IPY_MODEL_5e92e19e9fb3485784fb10161aa9b945",
       "max": 393656.0,
       "min": 0.0,
       "orientation": "horizontal",
       "style": "IPY_MODEL_7a0deae1bab14acabe6cdcbabedd1d2b",
       "value": 393656.0
      }
     },
     "5b32d9f55b2a44afa3fb698a0b967c9a": {
      "model_module": "@jupyter-widgets/controls",
      "model_module_version": "1.5.0",
      "model_name": "FloatProgressModel",
      "state": {
       "_dom_classes": [],
       "_model_module": "@jupyter-widgets/controls",
       "_model_module_version": "1.5.0",
       "_model_name": "FloatProgressModel",
       "_view_count": null,
       "_view_module": "@jupyter-widgets/controls",
       "_view_module_version": "1.5.0",
       "_view_name": "ProgressView",
       "bar_style": "success",
       "description": "100%",
       "description_tooltip": null,
       "layout": "IPY_MODEL_ff2d3b8d8f9a4cf484940d1a20e79757",
       "max": 393656.0,
       "min": 0.0,
       "orientation": "horizontal",
       "style": "IPY_MODEL_caaa44e5292a41c3ab05c8e8d2136d0d",
       "value": 393656.0
      }
     },
     "5e92e19e9fb3485784fb10161aa9b945": {
      "model_module": "@jupyter-widgets/base",
      "model_module_version": "1.2.0",
      "model_name": "LayoutModel",
      "state": {
       "_model_module": "@jupyter-widgets/base",
       "_model_module_version": "1.2.0",
       "_model_name": "LayoutModel",
       "_view_count": null,
       "_view_module": "@jupyter-widgets/base",
       "_view_module_version": "1.2.0",
       "_view_name": "LayoutView",
       "align_content": null,
       "align_items": null,
       "align_self": null,
       "border": null,
       "bottom": null,
       "display": null,
       "flex": null,
       "flex_flow": null,
       "grid_area": null,
       "grid_auto_columns": null,
       "grid_auto_flow": null,
       "grid_auto_rows": null,
       "grid_column": null,
       "grid_gap": null,
       "grid_row": null,
       "grid_template_areas": null,
       "grid_template_columns": null,
       "grid_template_rows": null,
       "height": null,
       "justify_content": null,
       "justify_items": null,
       "left": null,
       "margin": null,
       "max_height": null,
       "max_width": null,
       "min_height": null,
       "min_width": null,
       "object_fit": null,
       "object_position": null,
       "order": null,
       "overflow": null,
       "overflow_x": null,
       "overflow_y": null,
       "padding": null,
       "right": null,
       "top": null,
       "visibility": null,
       "width": null
      }
     },
     "61f687afcdf441d1b272d054b09f924f": {
      "model_module": "@jupyter-widgets/controls",
      "model_module_version": "1.5.0",
      "model_name": "HBoxModel",
      "state": {
       "_dom_classes": [],
       "_model_module": "@jupyter-widgets/controls",
       "_model_module_version": "1.5.0",
       "_model_name": "HBoxModel",
       "_view_count": null,
       "_view_module": "@jupyter-widgets/controls",
       "_view_module_version": "1.5.0",
       "_view_name": "HBoxView",
       "box_style": "",
       "children": [
        "IPY_MODEL_2ce042bfcc3145ceb2519d0ec757335a",
        "IPY_MODEL_9f8e192b8cef407aaf4c1a0a31993eda"
       ],
       "layout": "IPY_MODEL_93bfa53f02284a229cd80a8e2d769bf4"
      }
     },
     "654d03cb7fb140308ecfb1b7b31465d2": {
      "model_module": "@jupyter-widgets/base",
      "model_module_version": "1.2.0",
      "model_name": "LayoutModel",
      "state": {
       "_model_module": "@jupyter-widgets/base",
       "_model_module_version": "1.2.0",
       "_model_name": "LayoutModel",
       "_view_count": null,
       "_view_module": "@jupyter-widgets/base",
       "_view_module_version": "1.2.0",
       "_view_name": "LayoutView",
       "align_content": null,
       "align_items": null,
       "align_self": null,
       "border": null,
       "bottom": null,
       "display": null,
       "flex": null,
       "flex_flow": null,
       "grid_area": null,
       "grid_auto_columns": null,
       "grid_auto_flow": null,
       "grid_auto_rows": null,
       "grid_column": null,
       "grid_gap": null,
       "grid_row": null,
       "grid_template_areas": null,
       "grid_template_columns": null,
       "grid_template_rows": null,
       "height": null,
       "justify_content": null,
       "justify_items": null,
       "left": null,
       "margin": null,
       "max_height": null,
       "max_width": null,
       "min_height": null,
       "min_width": null,
       "object_fit": null,
       "object_position": null,
       "order": null,
       "overflow": null,
       "overflow_x": null,
       "overflow_y": null,
       "padding": null,
       "right": null,
       "top": null,
       "visibility": null,
       "width": null
      }
     },
     "65816c63960e4e57ab1c93d11437ab14": {
      "model_module": "@jupyter-widgets/base",
      "model_module_version": "1.2.0",
      "model_name": "LayoutModel",
      "state": {
       "_model_module": "@jupyter-widgets/base",
       "_model_module_version": "1.2.0",
       "_model_name": "LayoutModel",
       "_view_count": null,
       "_view_module": "@jupyter-widgets/base",
       "_view_module_version": "1.2.0",
       "_view_name": "LayoutView",
       "align_content": null,
       "align_items": null,
       "align_self": null,
       "border": null,
       "bottom": null,
       "display": null,
       "flex": null,
       "flex_flow": null,
       "grid_area": null,
       "grid_auto_columns": null,
       "grid_auto_flow": null,
       "grid_auto_rows": null,
       "grid_column": null,
       "grid_gap": null,
       "grid_row": null,
       "grid_template_areas": null,
       "grid_template_columns": null,
       "grid_template_rows": null,
       "height": null,
       "justify_content": null,
       "justify_items": null,
       "left": null,
       "margin": null,
       "max_height": null,
       "max_width": null,
       "min_height": null,
       "min_width": null,
       "object_fit": null,
       "object_position": null,
       "order": null,
       "overflow": null,
       "overflow_x": null,
       "overflow_y": null,
       "padding": null,
       "right": null,
       "top": null,
       "visibility": null,
       "width": null
      }
     },
     "684c45456cb2456db0580368d6719f11": {
      "model_module": "@jupyter-widgets/controls",
      "model_module_version": "1.5.0",
      "model_name": "DescriptionStyleModel",
      "state": {
       "_model_module": "@jupyter-widgets/controls",
       "_model_module_version": "1.5.0",
       "_model_name": "DescriptionStyleModel",
       "_view_count": null,
       "_view_module": "@jupyter-widgets/base",
       "_view_module_version": "1.2.0",
       "_view_name": "StyleView",
       "description_width": ""
      }
     },
     "68b9f527ab93462da29533fdcf3afd5b": {
      "model_module": "@jupyter-widgets/controls",
      "model_module_version": "1.5.0",
      "model_name": "ProgressStyleModel",
      "state": {
       "_model_module": "@jupyter-widgets/controls",
       "_model_module_version": "1.5.0",
       "_model_name": "ProgressStyleModel",
       "_view_count": null,
       "_view_module": "@jupyter-widgets/base",
       "_view_module_version": "1.2.0",
       "_view_name": "StyleView",
       "bar_color": null,
       "description_width": "initial"
      }
     },
     "70f1c8f4cb9345488d40fc1724124d04": {
      "model_module": "@jupyter-widgets/base",
      "model_module_version": "1.2.0",
      "model_name": "LayoutModel",
      "state": {
       "_model_module": "@jupyter-widgets/base",
       "_model_module_version": "1.2.0",
       "_model_name": "LayoutModel",
       "_view_count": null,
       "_view_module": "@jupyter-widgets/base",
       "_view_module_version": "1.2.0",
       "_view_name": "LayoutView",
       "align_content": null,
       "align_items": null,
       "align_self": null,
       "border": null,
       "bottom": null,
       "display": null,
       "flex": null,
       "flex_flow": null,
       "grid_area": null,
       "grid_auto_columns": null,
       "grid_auto_flow": null,
       "grid_auto_rows": null,
       "grid_column": null,
       "grid_gap": null,
       "grid_row": null,
       "grid_template_areas": null,
       "grid_template_columns": null,
       "grid_template_rows": null,
       "height": null,
       "justify_content": null,
       "justify_items": null,
       "left": null,
       "margin": null,
       "max_height": null,
       "max_width": null,
       "min_height": null,
       "min_width": null,
       "object_fit": null,
       "object_position": null,
       "order": null,
       "overflow": null,
       "overflow_x": null,
       "overflow_y": null,
       "padding": null,
       "right": null,
       "top": null,
       "visibility": null,
       "width": null
      }
     },
     "74079c658aae44d9bbe86d45b76f23f6": {
      "model_module": "@jupyter-widgets/base",
      "model_module_version": "1.2.0",
      "model_name": "LayoutModel",
      "state": {
       "_model_module": "@jupyter-widgets/base",
       "_model_module_version": "1.2.0",
       "_model_name": "LayoutModel",
       "_view_count": null,
       "_view_module": "@jupyter-widgets/base",
       "_view_module_version": "1.2.0",
       "_view_name": "LayoutView",
       "align_content": null,
       "align_items": null,
       "align_self": null,
       "border": null,
       "bottom": null,
       "display": null,
       "flex": null,
       "flex_flow": null,
       "grid_area": null,
       "grid_auto_columns": null,
       "grid_auto_flow": null,
       "grid_auto_rows": null,
       "grid_column": null,
       "grid_gap": null,
       "grid_row": null,
       "grid_template_areas": null,
       "grid_template_columns": null,
       "grid_template_rows": null,
       "height": null,
       "justify_content": null,
       "justify_items": null,
       "left": null,
       "margin": null,
       "max_height": null,
       "max_width": null,
       "min_height": null,
       "min_width": null,
       "object_fit": null,
       "object_position": null,
       "order": null,
       "overflow": null,
       "overflow_x": null,
       "overflow_y": null,
       "padding": null,
       "right": null,
       "top": null,
       "visibility": null,
       "width": null
      }
     },
     "756f74a475fe459b880f9781a2481455": {
      "model_module": "@jupyter-widgets/controls",
      "model_module_version": "1.5.0",
      "model_name": "DescriptionStyleModel",
      "state": {
       "_model_module": "@jupyter-widgets/controls",
       "_model_module_version": "1.5.0",
       "_model_name": "DescriptionStyleModel",
       "_view_count": null,
       "_view_module": "@jupyter-widgets/base",
       "_view_module_version": "1.2.0",
       "_view_name": "StyleView",
       "description_width": ""
      }
     },
     "75e9e0d9631c449a9d447750df0eb59a": {
      "model_module": "@jupyter-widgets/base",
      "model_module_version": "1.2.0",
      "model_name": "LayoutModel",
      "state": {
       "_model_module": "@jupyter-widgets/base",
       "_model_module_version": "1.2.0",
       "_model_name": "LayoutModel",
       "_view_count": null,
       "_view_module": "@jupyter-widgets/base",
       "_view_module_version": "1.2.0",
       "_view_name": "LayoutView",
       "align_content": null,
       "align_items": null,
       "align_self": null,
       "border": null,
       "bottom": null,
       "display": null,
       "flex": null,
       "flex_flow": null,
       "grid_area": null,
       "grid_auto_columns": null,
       "grid_auto_flow": null,
       "grid_auto_rows": null,
       "grid_column": null,
       "grid_gap": null,
       "grid_row": null,
       "grid_template_areas": null,
       "grid_template_columns": null,
       "grid_template_rows": null,
       "height": null,
       "justify_content": null,
       "justify_items": null,
       "left": null,
       "margin": null,
       "max_height": null,
       "max_width": null,
       "min_height": null,
       "min_width": null,
       "object_fit": null,
       "object_position": null,
       "order": null,
       "overflow": null,
       "overflow_x": null,
       "overflow_y": null,
       "padding": null,
       "right": null,
       "top": null,
       "visibility": null,
       "width": null
      }
     },
     "77eb770c8ab64bc3b32a7be1c61e1cef": {
      "model_module": "@jupyter-widgets/base",
      "model_module_version": "1.2.0",
      "model_name": "LayoutModel",
      "state": {
       "_model_module": "@jupyter-widgets/base",
       "_model_module_version": "1.2.0",
       "_model_name": "LayoutModel",
       "_view_count": null,
       "_view_module": "@jupyter-widgets/base",
       "_view_module_version": "1.2.0",
       "_view_name": "LayoutView",
       "align_content": null,
       "align_items": null,
       "align_self": null,
       "border": null,
       "bottom": null,
       "display": null,
       "flex": null,
       "flex_flow": null,
       "grid_area": null,
       "grid_auto_columns": null,
       "grid_auto_flow": null,
       "grid_auto_rows": null,
       "grid_column": null,
       "grid_gap": null,
       "grid_row": null,
       "grid_template_areas": null,
       "grid_template_columns": null,
       "grid_template_rows": null,
       "height": null,
       "justify_content": null,
       "justify_items": null,
       "left": null,
       "margin": null,
       "max_height": null,
       "max_width": null,
       "min_height": null,
       "min_width": null,
       "object_fit": null,
       "object_position": null,
       "order": null,
       "overflow": null,
       "overflow_x": null,
       "overflow_y": null,
       "padding": null,
       "right": null,
       "top": null,
       "visibility": null,
       "width": null
      }
     },
     "7a0deae1bab14acabe6cdcbabedd1d2b": {
      "model_module": "@jupyter-widgets/controls",
      "model_module_version": "1.5.0",
      "model_name": "ProgressStyleModel",
      "state": {
       "_model_module": "@jupyter-widgets/controls",
       "_model_module_version": "1.5.0",
       "_model_name": "ProgressStyleModel",
       "_view_count": null,
       "_view_module": "@jupyter-widgets/base",
       "_view_module_version": "1.2.0",
       "_view_name": "StyleView",
       "bar_color": null,
       "description_width": "initial"
      }
     },
     "7a17847f599547a0a05efe90750c6ec5": {
      "model_module": "@jupyter-widgets/base",
      "model_module_version": "1.2.0",
      "model_name": "LayoutModel",
      "state": {
       "_model_module": "@jupyter-widgets/base",
       "_model_module_version": "1.2.0",
       "_model_name": "LayoutModel",
       "_view_count": null,
       "_view_module": "@jupyter-widgets/base",
       "_view_module_version": "1.2.0",
       "_view_name": "LayoutView",
       "align_content": null,
       "align_items": null,
       "align_self": null,
       "border": null,
       "bottom": null,
       "display": null,
       "flex": null,
       "flex_flow": null,
       "grid_area": null,
       "grid_auto_columns": null,
       "grid_auto_flow": null,
       "grid_auto_rows": null,
       "grid_column": null,
       "grid_gap": null,
       "grid_row": null,
       "grid_template_areas": null,
       "grid_template_columns": null,
       "grid_template_rows": null,
       "height": null,
       "justify_content": null,
       "justify_items": null,
       "left": null,
       "margin": null,
       "max_height": null,
       "max_width": null,
       "min_height": null,
       "min_width": null,
       "object_fit": null,
       "object_position": null,
       "order": null,
       "overflow": null,
       "overflow_x": null,
       "overflow_y": null,
       "padding": null,
       "right": null,
       "top": null,
       "visibility": null,
       "width": null
      }
     },
     "7af43819c6f946fe8f6a0712e0c4bfab": {
      "model_module": "@jupyter-widgets/controls",
      "model_module_version": "1.5.0",
      "model_name": "DescriptionStyleModel",
      "state": {
       "_model_module": "@jupyter-widgets/controls",
       "_model_module_version": "1.5.0",
       "_model_name": "DescriptionStyleModel",
       "_view_count": null,
       "_view_module": "@jupyter-widgets/base",
       "_view_module_version": "1.2.0",
       "_view_name": "StyleView",
       "description_width": ""
      }
     },
     "8307ed8baf8946ac85a147570b324b45": {
      "model_module": "@jupyter-widgets/controls",
      "model_module_version": "1.5.0",
      "model_name": "HBoxModel",
      "state": {
       "_dom_classes": [],
       "_model_module": "@jupyter-widgets/controls",
       "_model_module_version": "1.5.0",
       "_model_name": "HBoxModel",
       "_view_count": null,
       "_view_module": "@jupyter-widgets/controls",
       "_view_module_version": "1.5.0",
       "_view_name": "HBoxView",
       "box_style": "",
       "children": [
        "IPY_MODEL_fa2b27978de7478791cd176cde823200",
        "IPY_MODEL_8cc508ac84824d11ab242f6b90fbdd70"
       ],
       "layout": "IPY_MODEL_c2c3b79d325d4efa902c3af0e0e19683"
      }
     },
     "83d5c98045cf4a74add877d8d379173f": {
      "model_module": "@jupyter-widgets/base",
      "model_module_version": "1.2.0",
      "model_name": "LayoutModel",
      "state": {
       "_model_module": "@jupyter-widgets/base",
       "_model_module_version": "1.2.0",
       "_model_name": "LayoutModel",
       "_view_count": null,
       "_view_module": "@jupyter-widgets/base",
       "_view_module_version": "1.2.0",
       "_view_name": "LayoutView",
       "align_content": null,
       "align_items": null,
       "align_self": null,
       "border": null,
       "bottom": null,
       "display": null,
       "flex": null,
       "flex_flow": null,
       "grid_area": null,
       "grid_auto_columns": null,
       "grid_auto_flow": null,
       "grid_auto_rows": null,
       "grid_column": null,
       "grid_gap": null,
       "grid_row": null,
       "grid_template_areas": null,
       "grid_template_columns": null,
       "grid_template_rows": null,
       "height": null,
       "justify_content": null,
       "justify_items": null,
       "left": null,
       "margin": null,
       "max_height": null,
       "max_width": null,
       "min_height": null,
       "min_width": null,
       "object_fit": null,
       "object_position": null,
       "order": null,
       "overflow": null,
       "overflow_x": null,
       "overflow_y": null,
       "padding": null,
       "right": null,
       "top": null,
       "visibility": null,
       "width": null
      }
     },
     "8508da608e86427dbfec0616693764e0": {
      "model_module": "@jupyter-widgets/base",
      "model_module_version": "1.2.0",
      "model_name": "LayoutModel",
      "state": {
       "_model_module": "@jupyter-widgets/base",
       "_model_module_version": "1.2.0",
       "_model_name": "LayoutModel",
       "_view_count": null,
       "_view_module": "@jupyter-widgets/base",
       "_view_module_version": "1.2.0",
       "_view_name": "LayoutView",
       "align_content": null,
       "align_items": null,
       "align_self": null,
       "border": null,
       "bottom": null,
       "display": null,
       "flex": null,
       "flex_flow": null,
       "grid_area": null,
       "grid_auto_columns": null,
       "grid_auto_flow": null,
       "grid_auto_rows": null,
       "grid_column": null,
       "grid_gap": null,
       "grid_row": null,
       "grid_template_areas": null,
       "grid_template_columns": null,
       "grid_template_rows": null,
       "height": null,
       "justify_content": null,
       "justify_items": null,
       "left": null,
       "margin": null,
       "max_height": null,
       "max_width": null,
       "min_height": null,
       "min_width": null,
       "object_fit": null,
       "object_position": null,
       "order": null,
       "overflow": null,
       "overflow_x": null,
       "overflow_y": null,
       "padding": null,
       "right": null,
       "top": null,
       "visibility": null,
       "width": null
      }
     },
     "86c7f71b320b4831a7e0b1ff573118d0": {
      "model_module": "@jupyter-widgets/base",
      "model_module_version": "1.2.0",
      "model_name": "LayoutModel",
      "state": {
       "_model_module": "@jupyter-widgets/base",
       "_model_module_version": "1.2.0",
       "_model_name": "LayoutModel",
       "_view_count": null,
       "_view_module": "@jupyter-widgets/base",
       "_view_module_version": "1.2.0",
       "_view_name": "LayoutView",
       "align_content": null,
       "align_items": null,
       "align_self": null,
       "border": null,
       "bottom": null,
       "display": null,
       "flex": null,
       "flex_flow": null,
       "grid_area": null,
       "grid_auto_columns": null,
       "grid_auto_flow": null,
       "grid_auto_rows": null,
       "grid_column": null,
       "grid_gap": null,
       "grid_row": null,
       "grid_template_areas": null,
       "grid_template_columns": null,
       "grid_template_rows": null,
       "height": null,
       "justify_content": null,
       "justify_items": null,
       "left": null,
       "margin": null,
       "max_height": null,
       "max_width": null,
       "min_height": null,
       "min_width": null,
       "object_fit": null,
       "object_position": null,
       "order": null,
       "overflow": null,
       "overflow_x": null,
       "overflow_y": null,
       "padding": null,
       "right": null,
       "top": null,
       "visibility": null,
       "width": null
      }
     },
     "8cc508ac84824d11ab242f6b90fbdd70": {
      "model_module": "@jupyter-widgets/controls",
      "model_module_version": "1.5.0",
      "model_name": "HTMLModel",
      "state": {
       "_dom_classes": [],
       "_model_module": "@jupyter-widgets/controls",
       "_model_module_version": "1.5.0",
       "_model_name": "HTMLModel",
       "_view_count": null,
       "_view_module": "@jupyter-widgets/controls",
       "_view_module_version": "1.5.0",
       "_view_name": "HTMLView",
       "description": "",
       "description_tooltip": null,
       "layout": "IPY_MODEL_976e11fe599a48068e418fe91bc90515",
       "placeholder": "​",
       "style": "IPY_MODEL_fbce0319fc8c41a284148641d8b524c6",
       "value": " 393656/393656 [00:00&lt;00:00, 520089.79it/s]"
      }
     },
     "8e4b1f102b224d1e9a24283c9c7866b0": {
      "model_module": "@jupyter-widgets/controls",
      "model_module_version": "1.5.0",
      "model_name": "HBoxModel",
      "state": {
       "_dom_classes": [],
       "_model_module": "@jupyter-widgets/controls",
       "_model_module_version": "1.5.0",
       "_model_name": "HBoxModel",
       "_view_count": null,
       "_view_module": "@jupyter-widgets/controls",
       "_view_module_version": "1.5.0",
       "_view_name": "HBoxView",
       "box_style": "",
       "children": [
        "IPY_MODEL_ce828b706786490586e189d9c5f1f462",
        "IPY_MODEL_919fe424d2964305991bfc0b03870241"
       ],
       "layout": "IPY_MODEL_9eebfef6132548bdbff8e3fae87d6dcd"
      }
     },
     "919fe424d2964305991bfc0b03870241": {
      "model_module": "@jupyter-widgets/controls",
      "model_module_version": "1.5.0",
      "model_name": "HTMLModel",
      "state": {
       "_dom_classes": [],
       "_model_module": "@jupyter-widgets/controls",
       "_model_module_version": "1.5.0",
       "_model_name": "HTMLModel",
       "_view_count": null,
       "_view_module": "@jupyter-widgets/controls",
       "_view_module_version": "1.5.0",
       "_view_name": "HTMLView",
       "description": "",
       "description_tooltip": null,
       "layout": "IPY_MODEL_75e9e0d9631c449a9d447750df0eb59a",
       "placeholder": "​",
       "style": "IPY_MODEL_100fa75d760a4debab3e3dc11cdcb767",
       "value": " 393656/393656 [00:06&lt;00:00, 57500.39it/s]"
      }
     },
     "93bfa53f02284a229cd80a8e2d769bf4": {
      "model_module": "@jupyter-widgets/base",
      "model_module_version": "1.2.0",
      "model_name": "LayoutModel",
      "state": {
       "_model_module": "@jupyter-widgets/base",
       "_model_module_version": "1.2.0",
       "_model_name": "LayoutModel",
       "_view_count": null,
       "_view_module": "@jupyter-widgets/base",
       "_view_module_version": "1.2.0",
       "_view_name": "LayoutView",
       "align_content": null,
       "align_items": null,
       "align_self": null,
       "border": null,
       "bottom": null,
       "display": null,
       "flex": null,
       "flex_flow": null,
       "grid_area": null,
       "grid_auto_columns": null,
       "grid_auto_flow": null,
       "grid_auto_rows": null,
       "grid_column": null,
       "grid_gap": null,
       "grid_row": null,
       "grid_template_areas": null,
       "grid_template_columns": null,
       "grid_template_rows": null,
       "height": null,
       "justify_content": null,
       "justify_items": null,
       "left": null,
       "margin": null,
       "max_height": null,
       "max_width": null,
       "min_height": null,
       "min_width": null,
       "object_fit": null,
       "object_position": null,
       "order": null,
       "overflow": null,
       "overflow_x": null,
       "overflow_y": null,
       "padding": null,
       "right": null,
       "top": null,
       "visibility": null,
       "width": null
      }
     },
     "9495b4d9b53e4738919a874833a17a9b": {
      "model_module": "@jupyter-widgets/base",
      "model_module_version": "1.2.0",
      "model_name": "LayoutModel",
      "state": {
       "_model_module": "@jupyter-widgets/base",
       "_model_module_version": "1.2.0",
       "_model_name": "LayoutModel",
       "_view_count": null,
       "_view_module": "@jupyter-widgets/base",
       "_view_module_version": "1.2.0",
       "_view_name": "LayoutView",
       "align_content": null,
       "align_items": null,
       "align_self": null,
       "border": null,
       "bottom": null,
       "display": null,
       "flex": null,
       "flex_flow": null,
       "grid_area": null,
       "grid_auto_columns": null,
       "grid_auto_flow": null,
       "grid_auto_rows": null,
       "grid_column": null,
       "grid_gap": null,
       "grid_row": null,
       "grid_template_areas": null,
       "grid_template_columns": null,
       "grid_template_rows": null,
       "height": null,
       "justify_content": null,
       "justify_items": null,
       "left": null,
       "margin": null,
       "max_height": null,
       "max_width": null,
       "min_height": null,
       "min_width": null,
       "object_fit": null,
       "object_position": null,
       "order": null,
       "overflow": null,
       "overflow_x": null,
       "overflow_y": null,
       "padding": null,
       "right": null,
       "top": null,
       "visibility": null,
       "width": null
      }
     },
     "976e11fe599a48068e418fe91bc90515": {
      "model_module": "@jupyter-widgets/base",
      "model_module_version": "1.2.0",
      "model_name": "LayoutModel",
      "state": {
       "_model_module": "@jupyter-widgets/base",
       "_model_module_version": "1.2.0",
       "_model_name": "LayoutModel",
       "_view_count": null,
       "_view_module": "@jupyter-widgets/base",
       "_view_module_version": "1.2.0",
       "_view_name": "LayoutView",
       "align_content": null,
       "align_items": null,
       "align_self": null,
       "border": null,
       "bottom": null,
       "display": null,
       "flex": null,
       "flex_flow": null,
       "grid_area": null,
       "grid_auto_columns": null,
       "grid_auto_flow": null,
       "grid_auto_rows": null,
       "grid_column": null,
       "grid_gap": null,
       "grid_row": null,
       "grid_template_areas": null,
       "grid_template_columns": null,
       "grid_template_rows": null,
       "height": null,
       "justify_content": null,
       "justify_items": null,
       "left": null,
       "margin": null,
       "max_height": null,
       "max_width": null,
       "min_height": null,
       "min_width": null,
       "object_fit": null,
       "object_position": null,
       "order": null,
       "overflow": null,
       "overflow_x": null,
       "overflow_y": null,
       "padding": null,
       "right": null,
       "top": null,
       "visibility": null,
       "width": null
      }
     },
     "9b65a7d458464fbf80b16d58e2efc0e8": {
      "model_module": "@jupyter-widgets/controls",
      "model_module_version": "1.5.0",
      "model_name": "ProgressStyleModel",
      "state": {
       "_model_module": "@jupyter-widgets/controls",
       "_model_module_version": "1.5.0",
       "_model_name": "ProgressStyleModel",
       "_view_count": null,
       "_view_module": "@jupyter-widgets/base",
       "_view_module_version": "1.2.0",
       "_view_name": "StyleView",
       "bar_color": null,
       "description_width": "initial"
      }
     },
     "9d026cf33d074c85b39047d13078a755": {
      "model_module": "@jupyter-widgets/base",
      "model_module_version": "1.2.0",
      "model_name": "LayoutModel",
      "state": {
       "_model_module": "@jupyter-widgets/base",
       "_model_module_version": "1.2.0",
       "_model_name": "LayoutModel",
       "_view_count": null,
       "_view_module": "@jupyter-widgets/base",
       "_view_module_version": "1.2.0",
       "_view_name": "LayoutView",
       "align_content": null,
       "align_items": null,
       "align_self": null,
       "border": null,
       "bottom": null,
       "display": null,
       "flex": null,
       "flex_flow": null,
       "grid_area": null,
       "grid_auto_columns": null,
       "grid_auto_flow": null,
       "grid_auto_rows": null,
       "grid_column": null,
       "grid_gap": null,
       "grid_row": null,
       "grid_template_areas": null,
       "grid_template_columns": null,
       "grid_template_rows": null,
       "height": null,
       "justify_content": null,
       "justify_items": null,
       "left": null,
       "margin": null,
       "max_height": null,
       "max_width": null,
       "min_height": null,
       "min_width": null,
       "object_fit": null,
       "object_position": null,
       "order": null,
       "overflow": null,
       "overflow_x": null,
       "overflow_y": null,
       "padding": null,
       "right": null,
       "top": null,
       "visibility": null,
       "width": null
      }
     },
     "9eebfef6132548bdbff8e3fae87d6dcd": {
      "model_module": "@jupyter-widgets/base",
      "model_module_version": "1.2.0",
      "model_name": "LayoutModel",
      "state": {
       "_model_module": "@jupyter-widgets/base",
       "_model_module_version": "1.2.0",
       "_model_name": "LayoutModel",
       "_view_count": null,
       "_view_module": "@jupyter-widgets/base",
       "_view_module_version": "1.2.0",
       "_view_name": "LayoutView",
       "align_content": null,
       "align_items": null,
       "align_self": null,
       "border": null,
       "bottom": null,
       "display": null,
       "flex": null,
       "flex_flow": null,
       "grid_area": null,
       "grid_auto_columns": null,
       "grid_auto_flow": null,
       "grid_auto_rows": null,
       "grid_column": null,
       "grid_gap": null,
       "grid_row": null,
       "grid_template_areas": null,
       "grid_template_columns": null,
       "grid_template_rows": null,
       "height": null,
       "justify_content": null,
       "justify_items": null,
       "left": null,
       "margin": null,
       "max_height": null,
       "max_width": null,
       "min_height": null,
       "min_width": null,
       "object_fit": null,
       "object_position": null,
       "order": null,
       "overflow": null,
       "overflow_x": null,
       "overflow_y": null,
       "padding": null,
       "right": null,
       "top": null,
       "visibility": null,
       "width": null
      }
     },
     "9f8e192b8cef407aaf4c1a0a31993eda": {
      "model_module": "@jupyter-widgets/controls",
      "model_module_version": "1.5.0",
      "model_name": "HTMLModel",
      "state": {
       "_dom_classes": [],
       "_model_module": "@jupyter-widgets/controls",
       "_model_module_version": "1.5.0",
       "_model_name": "HTMLModel",
       "_view_count": null,
       "_view_module": "@jupyter-widgets/controls",
       "_view_module_version": "1.5.0",
       "_view_name": "HTMLView",
       "description": "",
       "description_tooltip": null,
       "layout": "IPY_MODEL_31fe6271c6af4a599a45b0c24d59e250",
       "placeholder": "​",
       "style": "IPY_MODEL_014dd5b62cd14763904000b851353b4c",
       "value": " 393656/393656 [00:01&lt;00:00, 280569.95it/s]"
      }
     },
     "a176152f2a824dbf8119a589d5d25e04": {
      "model_module": "@jupyter-widgets/controls",
      "model_module_version": "1.5.0",
      "model_name": "FloatProgressModel",
      "state": {
       "_dom_classes": [],
       "_model_module": "@jupyter-widgets/controls",
       "_model_module_version": "1.5.0",
       "_model_name": "FloatProgressModel",
       "_view_count": null,
       "_view_module": "@jupyter-widgets/controls",
       "_view_module_version": "1.5.0",
       "_view_name": "ProgressView",
       "bar_style": "success",
       "description": "100%",
       "description_tooltip": null,
       "layout": "IPY_MODEL_65816c63960e4e57ab1c93d11437ab14",
       "max": 393656.0,
       "min": 0.0,
       "orientation": "horizontal",
       "style": "IPY_MODEL_c5bb3477e3904969b0079fbaacb1cdc4",
       "value": 393656.0
      }
     },
     "a187a351adef4dc2b72528c1782680aa": {
      "model_module": "@jupyter-widgets/base",
      "model_module_version": "1.2.0",
      "model_name": "LayoutModel",
      "state": {
       "_model_module": "@jupyter-widgets/base",
       "_model_module_version": "1.2.0",
       "_model_name": "LayoutModel",
       "_view_count": null,
       "_view_module": "@jupyter-widgets/base",
       "_view_module_version": "1.2.0",
       "_view_name": "LayoutView",
       "align_content": null,
       "align_items": null,
       "align_self": null,
       "border": null,
       "bottom": null,
       "display": null,
       "flex": null,
       "flex_flow": null,
       "grid_area": null,
       "grid_auto_columns": null,
       "grid_auto_flow": null,
       "grid_auto_rows": null,
       "grid_column": null,
       "grid_gap": null,
       "grid_row": null,
       "grid_template_areas": null,
       "grid_template_columns": null,
       "grid_template_rows": null,
       "height": null,
       "justify_content": null,
       "justify_items": null,
       "left": null,
       "margin": null,
       "max_height": null,
       "max_width": null,
       "min_height": null,
       "min_width": null,
       "object_fit": null,
       "object_position": null,
       "order": null,
       "overflow": null,
       "overflow_x": null,
       "overflow_y": null,
       "padding": null,
       "right": null,
       "top": null,
       "visibility": null,
       "width": null
      }
     },
     "a6106958793249eeabbbe67b09b0936b": {
      "model_module": "@jupyter-widgets/base",
      "model_module_version": "1.2.0",
      "model_name": "LayoutModel",
      "state": {
       "_model_module": "@jupyter-widgets/base",
       "_model_module_version": "1.2.0",
       "_model_name": "LayoutModel",
       "_view_count": null,
       "_view_module": "@jupyter-widgets/base",
       "_view_module_version": "1.2.0",
       "_view_name": "LayoutView",
       "align_content": null,
       "align_items": null,
       "align_self": null,
       "border": null,
       "bottom": null,
       "display": null,
       "flex": null,
       "flex_flow": null,
       "grid_area": null,
       "grid_auto_columns": null,
       "grid_auto_flow": null,
       "grid_auto_rows": null,
       "grid_column": null,
       "grid_gap": null,
       "grid_row": null,
       "grid_template_areas": null,
       "grid_template_columns": null,
       "grid_template_rows": null,
       "height": null,
       "justify_content": null,
       "justify_items": null,
       "left": null,
       "margin": null,
       "max_height": null,
       "max_width": null,
       "min_height": null,
       "min_width": null,
       "object_fit": null,
       "object_position": null,
       "order": null,
       "overflow": null,
       "overflow_x": null,
       "overflow_y": null,
       "padding": null,
       "right": null,
       "top": null,
       "visibility": null,
       "width": null
      }
     },
     "a88e684c60f3461e86efdeaa86f4a858": {
      "model_module": "@jupyter-widgets/controls",
      "model_module_version": "1.5.0",
      "model_name": "HBoxModel",
      "state": {
       "_dom_classes": [],
       "_model_module": "@jupyter-widgets/controls",
       "_model_module_version": "1.5.0",
       "_model_name": "HBoxModel",
       "_view_count": null,
       "_view_module": "@jupyter-widgets/controls",
       "_view_module_version": "1.5.0",
       "_view_name": "HBoxView",
       "box_style": "",
       "children": [
        "IPY_MODEL_dbacd39a9e8a4e39a7664404f8d4c31e",
        "IPY_MODEL_1f865142f87c4c52a011721d438e556b"
       ],
       "layout": "IPY_MODEL_77eb770c8ab64bc3b32a7be1c61e1cef"
      }
     },
     "aefcd807d0d64e708851ccabfcabb9a0": {
      "model_module": "@jupyter-widgets/controls",
      "model_module_version": "1.5.0",
      "model_name": "DescriptionStyleModel",
      "state": {
       "_model_module": "@jupyter-widgets/controls",
       "_model_module_version": "1.5.0",
       "_model_name": "DescriptionStyleModel",
       "_view_count": null,
       "_view_module": "@jupyter-widgets/base",
       "_view_module_version": "1.2.0",
       "_view_name": "StyleView",
       "description_width": ""
      }
     },
     "b5a2028b542044bea64268d1a0b0384b": {
      "model_module": "@jupyter-widgets/base",
      "model_module_version": "1.2.0",
      "model_name": "LayoutModel",
      "state": {
       "_model_module": "@jupyter-widgets/base",
       "_model_module_version": "1.2.0",
       "_model_name": "LayoutModel",
       "_view_count": null,
       "_view_module": "@jupyter-widgets/base",
       "_view_module_version": "1.2.0",
       "_view_name": "LayoutView",
       "align_content": null,
       "align_items": null,
       "align_self": null,
       "border": null,
       "bottom": null,
       "display": null,
       "flex": null,
       "flex_flow": null,
       "grid_area": null,
       "grid_auto_columns": null,
       "grid_auto_flow": null,
       "grid_auto_rows": null,
       "grid_column": null,
       "grid_gap": null,
       "grid_row": null,
       "grid_template_areas": null,
       "grid_template_columns": null,
       "grid_template_rows": null,
       "height": null,
       "justify_content": null,
       "justify_items": null,
       "left": null,
       "margin": null,
       "max_height": null,
       "max_width": null,
       "min_height": null,
       "min_width": null,
       "object_fit": null,
       "object_position": null,
       "order": null,
       "overflow": null,
       "overflow_x": null,
       "overflow_y": null,
       "padding": null,
       "right": null,
       "top": null,
       "visibility": null,
       "width": null
      }
     },
     "b6107730ab0c4dc5aafa8affd85fafe5": {
      "model_module": "@jupyter-widgets/base",
      "model_module_version": "1.2.0",
      "model_name": "LayoutModel",
      "state": {
       "_model_module": "@jupyter-widgets/base",
       "_model_module_version": "1.2.0",
       "_model_name": "LayoutModel",
       "_view_count": null,
       "_view_module": "@jupyter-widgets/base",
       "_view_module_version": "1.2.0",
       "_view_name": "LayoutView",
       "align_content": null,
       "align_items": null,
       "align_self": null,
       "border": null,
       "bottom": null,
       "display": null,
       "flex": null,
       "flex_flow": null,
       "grid_area": null,
       "grid_auto_columns": null,
       "grid_auto_flow": null,
       "grid_auto_rows": null,
       "grid_column": null,
       "grid_gap": null,
       "grid_row": null,
       "grid_template_areas": null,
       "grid_template_columns": null,
       "grid_template_rows": null,
       "height": null,
       "justify_content": null,
       "justify_items": null,
       "left": null,
       "margin": null,
       "max_height": null,
       "max_width": null,
       "min_height": null,
       "min_width": null,
       "object_fit": null,
       "object_position": null,
       "order": null,
       "overflow": null,
       "overflow_x": null,
       "overflow_y": null,
       "padding": null,
       "right": null,
       "top": null,
       "visibility": null,
       "width": null
      }
     },
     "ba81c5f881794251bc1d8d2877536290": {
      "model_module": "@jupyter-widgets/base",
      "model_module_version": "1.2.0",
      "model_name": "LayoutModel",
      "state": {
       "_model_module": "@jupyter-widgets/base",
       "_model_module_version": "1.2.0",
       "_model_name": "LayoutModel",
       "_view_count": null,
       "_view_module": "@jupyter-widgets/base",
       "_view_module_version": "1.2.0",
       "_view_name": "LayoutView",
       "align_content": null,
       "align_items": null,
       "align_self": null,
       "border": null,
       "bottom": null,
       "display": null,
       "flex": null,
       "flex_flow": null,
       "grid_area": null,
       "grid_auto_columns": null,
       "grid_auto_flow": null,
       "grid_auto_rows": null,
       "grid_column": null,
       "grid_gap": null,
       "grid_row": null,
       "grid_template_areas": null,
       "grid_template_columns": null,
       "grid_template_rows": null,
       "height": null,
       "justify_content": null,
       "justify_items": null,
       "left": null,
       "margin": null,
       "max_height": null,
       "max_width": null,
       "min_height": null,
       "min_width": null,
       "object_fit": null,
       "object_position": null,
       "order": null,
       "overflow": null,
       "overflow_x": null,
       "overflow_y": null,
       "padding": null,
       "right": null,
       "top": null,
       "visibility": null,
       "width": null
      }
     },
     "bb845cbd7f784e71a95ab12c252439d4": {
      "model_module": "@jupyter-widgets/controls",
      "model_module_version": "1.5.0",
      "model_name": "ProgressStyleModel",
      "state": {
       "_model_module": "@jupyter-widgets/controls",
       "_model_module_version": "1.5.0",
       "_model_name": "ProgressStyleModel",
       "_view_count": null,
       "_view_module": "@jupyter-widgets/base",
       "_view_module_version": "1.2.0",
       "_view_name": "StyleView",
       "bar_color": null,
       "description_width": "initial"
      }
     },
     "be8a8ef4928145ab97269c21468a1068": {
      "model_module": "@jupyter-widgets/controls",
      "model_module_version": "1.5.0",
      "model_name": "HTMLModel",
      "state": {
       "_dom_classes": [],
       "_model_module": "@jupyter-widgets/controls",
       "_model_module_version": "1.5.0",
       "_model_name": "HTMLModel",
       "_view_count": null,
       "_view_module": "@jupyter-widgets/controls",
       "_view_module_version": "1.5.0",
       "_view_name": "HTMLView",
       "description": "",
       "description_tooltip": null,
       "layout": "IPY_MODEL_86c7f71b320b4831a7e0b1ff573118d0",
       "placeholder": "​",
       "style": "IPY_MODEL_4e4385fc35e84e108600072408fb40bd",
       "value": " 393656/393656 [00:00&lt;00:00, 511868.09it/s]"
      }
     },
     "c1198aa07a2d478488845013c680337e": {
      "model_module": "@jupyter-widgets/controls",
      "model_module_version": "1.5.0",
      "model_name": "FloatProgressModel",
      "state": {
       "_dom_classes": [],
       "_model_module": "@jupyter-widgets/controls",
       "_model_module_version": "1.5.0",
       "_model_name": "FloatProgressModel",
       "_view_count": null,
       "_view_module": "@jupyter-widgets/controls",
       "_view_module_version": "1.5.0",
       "_view_name": "ProgressView",
       "bar_style": "success",
       "description": "100%",
       "description_tooltip": null,
       "layout": "IPY_MODEL_83d5c98045cf4a74add877d8d379173f",
       "max": 393656.0,
       "min": 0.0,
       "orientation": "horizontal",
       "style": "IPY_MODEL_2fb6cab21f2f493ca6cf35dbd799b8cf",
       "value": 393656.0
      }
     },
     "c2c3b79d325d4efa902c3af0e0e19683": {
      "model_module": "@jupyter-widgets/base",
      "model_module_version": "1.2.0",
      "model_name": "LayoutModel",
      "state": {
       "_model_module": "@jupyter-widgets/base",
       "_model_module_version": "1.2.0",
       "_model_name": "LayoutModel",
       "_view_count": null,
       "_view_module": "@jupyter-widgets/base",
       "_view_module_version": "1.2.0",
       "_view_name": "LayoutView",
       "align_content": null,
       "align_items": null,
       "align_self": null,
       "border": null,
       "bottom": null,
       "display": null,
       "flex": null,
       "flex_flow": null,
       "grid_area": null,
       "grid_auto_columns": null,
       "grid_auto_flow": null,
       "grid_auto_rows": null,
       "grid_column": null,
       "grid_gap": null,
       "grid_row": null,
       "grid_template_areas": null,
       "grid_template_columns": null,
       "grid_template_rows": null,
       "height": null,
       "justify_content": null,
       "justify_items": null,
       "left": null,
       "margin": null,
       "max_height": null,
       "max_width": null,
       "min_height": null,
       "min_width": null,
       "object_fit": null,
       "object_position": null,
       "order": null,
       "overflow": null,
       "overflow_x": null,
       "overflow_y": null,
       "padding": null,
       "right": null,
       "top": null,
       "visibility": null,
       "width": null
      }
     },
     "c390a9c3532b425b8658f0ace7d2e6ac": {
      "model_module": "@jupyter-widgets/controls",
      "model_module_version": "1.5.0",
      "model_name": "FloatProgressModel",
      "state": {
       "_dom_classes": [],
       "_model_module": "@jupyter-widgets/controls",
       "_model_module_version": "1.5.0",
       "_model_name": "FloatProgressModel",
       "_view_count": null,
       "_view_module": "@jupyter-widgets/controls",
       "_view_module_version": "1.5.0",
       "_view_name": "ProgressView",
       "bar_style": "success",
       "description": "100%",
       "description_tooltip": null,
       "layout": "IPY_MODEL_a187a351adef4dc2b72528c1782680aa",
       "max": 393656.0,
       "min": 0.0,
       "orientation": "horizontal",
       "style": "IPY_MODEL_d9ea4952f5334b8ba0b5c5a79e0f4178",
       "value": 393656.0
      }
     },
     "c420ec0f704e4cb7ab5bfc24668872b8": {
      "model_module": "@jupyter-widgets/controls",
      "model_module_version": "1.5.0",
      "model_name": "HTMLModel",
      "state": {
       "_dom_classes": [],
       "_model_module": "@jupyter-widgets/controls",
       "_model_module_version": "1.5.0",
       "_model_name": "HTMLModel",
       "_view_count": null,
       "_view_module": "@jupyter-widgets/controls",
       "_view_module_version": "1.5.0",
       "_view_name": "HTMLView",
       "description": "",
       "description_tooltip": null,
       "layout": "IPY_MODEL_0b668413de7d4e11a4733826b8c2adaa",
       "placeholder": "​",
       "style": "IPY_MODEL_fb36cd687aad4148b1297712611ee1ce",
       "value": " 393656/393656 [00:02&lt;00:00, 143698.93it/s]"
      }
     },
     "c5bb3477e3904969b0079fbaacb1cdc4": {
      "model_module": "@jupyter-widgets/controls",
      "model_module_version": "1.5.0",
      "model_name": "ProgressStyleModel",
      "state": {
       "_model_module": "@jupyter-widgets/controls",
       "_model_module_version": "1.5.0",
       "_model_name": "ProgressStyleModel",
       "_view_count": null,
       "_view_module": "@jupyter-widgets/base",
       "_view_module_version": "1.2.0",
       "_view_name": "StyleView",
       "bar_color": null,
       "description_width": "initial"
      }
     },
     "c732425bd4a145e2b6f7c51c3b9281ad": {
      "model_module": "@jupyter-widgets/controls",
      "model_module_version": "1.5.0",
      "model_name": "HBoxModel",
      "state": {
       "_dom_classes": [],
       "_model_module": "@jupyter-widgets/controls",
       "_model_module_version": "1.5.0",
       "_model_name": "HBoxModel",
       "_view_count": null,
       "_view_module": "@jupyter-widgets/controls",
       "_view_module_version": "1.5.0",
       "_view_name": "HBoxView",
       "box_style": "",
       "children": [
        "IPY_MODEL_269865bf4e7941e786194be55963e643",
        "IPY_MODEL_d9d4d211ec9c49fcbcf961254ceb3a5a"
       ],
       "layout": "IPY_MODEL_fd477e10ea024db6b099c10c7ac0deb1"
      }
     },
     "caaa44e5292a41c3ab05c8e8d2136d0d": {
      "model_module": "@jupyter-widgets/controls",
      "model_module_version": "1.5.0",
      "model_name": "ProgressStyleModel",
      "state": {
       "_model_module": "@jupyter-widgets/controls",
       "_model_module_version": "1.5.0",
       "_model_name": "ProgressStyleModel",
       "_view_count": null,
       "_view_module": "@jupyter-widgets/base",
       "_view_module_version": "1.2.0",
       "_view_name": "StyleView",
       "bar_color": null,
       "description_width": "initial"
      }
     },
     "cb35707e080840ff95df4a7a862e0114": {
      "model_module": "@jupyter-widgets/base",
      "model_module_version": "1.2.0",
      "model_name": "LayoutModel",
      "state": {
       "_model_module": "@jupyter-widgets/base",
       "_model_module_version": "1.2.0",
       "_model_name": "LayoutModel",
       "_view_count": null,
       "_view_module": "@jupyter-widgets/base",
       "_view_module_version": "1.2.0",
       "_view_name": "LayoutView",
       "align_content": null,
       "align_items": null,
       "align_self": null,
       "border": null,
       "bottom": null,
       "display": null,
       "flex": null,
       "flex_flow": null,
       "grid_area": null,
       "grid_auto_columns": null,
       "grid_auto_flow": null,
       "grid_auto_rows": null,
       "grid_column": null,
       "grid_gap": null,
       "grid_row": null,
       "grid_template_areas": null,
       "grid_template_columns": null,
       "grid_template_rows": null,
       "height": null,
       "justify_content": null,
       "justify_items": null,
       "left": null,
       "margin": null,
       "max_height": null,
       "max_width": null,
       "min_height": null,
       "min_width": null,
       "object_fit": null,
       "object_position": null,
       "order": null,
       "overflow": null,
       "overflow_x": null,
       "overflow_y": null,
       "padding": null,
       "right": null,
       "top": null,
       "visibility": null,
       "width": null
      }
     },
     "ccff665f6c77403693b3766c9589bcb8": {
      "model_module": "@jupyter-widgets/controls",
      "model_module_version": "1.5.0",
      "model_name": "HTMLModel",
      "state": {
       "_dom_classes": [],
       "_model_module": "@jupyter-widgets/controls",
       "_model_module_version": "1.5.0",
       "_model_name": "HTMLModel",
       "_view_count": null,
       "_view_module": "@jupyter-widgets/controls",
       "_view_module_version": "1.5.0",
       "_view_name": "HTMLView",
       "description": "",
       "description_tooltip": null,
       "layout": "IPY_MODEL_cb35707e080840ff95df4a7a862e0114",
       "placeholder": "​",
       "style": "IPY_MODEL_0c3d648ac5874c6ab2010ae9ff60c962",
       "value": " 393656/393656 [00:05&lt;00:00, 77967.42it/s]"
      }
     },
     "ce828b706786490586e189d9c5f1f462": {
      "model_module": "@jupyter-widgets/controls",
      "model_module_version": "1.5.0",
      "model_name": "FloatProgressModel",
      "state": {
       "_dom_classes": [],
       "_model_module": "@jupyter-widgets/controls",
       "_model_module_version": "1.5.0",
       "_model_name": "FloatProgressModel",
       "_view_count": null,
       "_view_module": "@jupyter-widgets/controls",
       "_view_module_version": "1.5.0",
       "_view_name": "ProgressView",
       "bar_style": "success",
       "description": "100%",
       "description_tooltip": null,
       "layout": "IPY_MODEL_654d03cb7fb140308ecfb1b7b31465d2",
       "max": 393656.0,
       "min": 0.0,
       "orientation": "horizontal",
       "style": "IPY_MODEL_52adf706eb0c48558d911dfe1538f079",
       "value": 393656.0
      }
     },
     "cf1d4462aa1e480a99bf452f814ad3d8": {
      "model_module": "@jupyter-widgets/controls",
      "model_module_version": "1.5.0",
      "model_name": "HBoxModel",
      "state": {
       "_dom_classes": [],
       "_model_module": "@jupyter-widgets/controls",
       "_model_module_version": "1.5.0",
       "_model_name": "HBoxModel",
       "_view_count": null,
       "_view_module": "@jupyter-widgets/controls",
       "_view_module_version": "1.5.0",
       "_view_name": "HBoxView",
       "box_style": "",
       "children": [
        "IPY_MODEL_c1198aa07a2d478488845013c680337e",
        "IPY_MODEL_ccff665f6c77403693b3766c9589bcb8"
       ],
       "layout": "IPY_MODEL_b5a2028b542044bea64268d1a0b0384b"
      }
     },
     "d9d4d211ec9c49fcbcf961254ceb3a5a": {
      "model_module": "@jupyter-widgets/controls",
      "model_module_version": "1.5.0",
      "model_name": "HTMLModel",
      "state": {
       "_dom_classes": [],
       "_model_module": "@jupyter-widgets/controls",
       "_model_module_version": "1.5.0",
       "_model_name": "HTMLModel",
       "_view_count": null,
       "_view_module": "@jupyter-widgets/controls",
       "_view_module_version": "1.5.0",
       "_view_name": "HTMLView",
       "description": "",
       "description_tooltip": null,
       "layout": "IPY_MODEL_74079c658aae44d9bbe86d45b76f23f6",
       "placeholder": "​",
       "style": "IPY_MODEL_756f74a475fe459b880f9781a2481455",
       "value": " 393656/393656 [00:01&lt;00:00, 291987.52it/s]"
      }
     },
     "d9ea4952f5334b8ba0b5c5a79e0f4178": {
      "model_module": "@jupyter-widgets/controls",
      "model_module_version": "1.5.0",
      "model_name": "ProgressStyleModel",
      "state": {
       "_model_module": "@jupyter-widgets/controls",
       "_model_module_version": "1.5.0",
       "_model_name": "ProgressStyleModel",
       "_view_count": null,
       "_view_module": "@jupyter-widgets/base",
       "_view_module_version": "1.2.0",
       "_view_name": "StyleView",
       "bar_color": null,
       "description_width": "initial"
      }
     },
     "dbacd39a9e8a4e39a7664404f8d4c31e": {
      "model_module": "@jupyter-widgets/controls",
      "model_module_version": "1.5.0",
      "model_name": "FloatProgressModel",
      "state": {
       "_dom_classes": [],
       "_model_module": "@jupyter-widgets/controls",
       "_model_module_version": "1.5.0",
       "_model_name": "FloatProgressModel",
       "_view_count": null,
       "_view_module": "@jupyter-widgets/controls",
       "_view_module_version": "1.5.0",
       "_view_name": "ProgressView",
       "bar_style": "success",
       "description": "100%",
       "description_tooltip": null,
       "layout": "IPY_MODEL_a6106958793249eeabbbe67b09b0936b",
       "max": 393656.0,
       "min": 0.0,
       "orientation": "horizontal",
       "style": "IPY_MODEL_9b65a7d458464fbf80b16d58e2efc0e8",
       "value": 393656.0
      }
     },
     "e0c306b0e74b464c9ba96473afc9864a": {
      "model_module": "@jupyter-widgets/controls",
      "model_module_version": "1.5.0",
      "model_name": "HBoxModel",
      "state": {
       "_dom_classes": [],
       "_model_module": "@jupyter-widgets/controls",
       "_model_module_version": "1.5.0",
       "_model_name": "HBoxModel",
       "_view_count": null,
       "_view_module": "@jupyter-widgets/controls",
       "_view_module_version": "1.5.0",
       "_view_name": "HBoxView",
       "box_style": "",
       "children": [
        "IPY_MODEL_0bd4034532334c138ca48f4242158642",
        "IPY_MODEL_ebcbdc3387584baf9fd268b8b48b2c11"
       ],
       "layout": "IPY_MODEL_ba81c5f881794251bc1d8d2877536290"
      }
     },
     "e43a6fd531c344788f7bacca08653b89": {
      "model_module": "@jupyter-widgets/base",
      "model_module_version": "1.2.0",
      "model_name": "LayoutModel",
      "state": {
       "_model_module": "@jupyter-widgets/base",
       "_model_module_version": "1.2.0",
       "_model_name": "LayoutModel",
       "_view_count": null,
       "_view_module": "@jupyter-widgets/base",
       "_view_module_version": "1.2.0",
       "_view_name": "LayoutView",
       "align_content": null,
       "align_items": null,
       "align_self": null,
       "border": null,
       "bottom": null,
       "display": null,
       "flex": null,
       "flex_flow": null,
       "grid_area": null,
       "grid_auto_columns": null,
       "grid_auto_flow": null,
       "grid_auto_rows": null,
       "grid_column": null,
       "grid_gap": null,
       "grid_row": null,
       "grid_template_areas": null,
       "grid_template_columns": null,
       "grid_template_rows": null,
       "height": null,
       "justify_content": null,
       "justify_items": null,
       "left": null,
       "margin": null,
       "max_height": null,
       "max_width": null,
       "min_height": null,
       "min_width": null,
       "object_fit": null,
       "object_position": null,
       "order": null,
       "overflow": null,
       "overflow_x": null,
       "overflow_y": null,
       "padding": null,
       "right": null,
       "top": null,
       "visibility": null,
       "width": null
      }
     },
     "e8cdd3f540664542bebee0c90f24683d": {
      "model_module": "@jupyter-widgets/controls",
      "model_module_version": "1.5.0",
      "model_name": "HBoxModel",
      "state": {
       "_dom_classes": [],
       "_model_module": "@jupyter-widgets/controls",
       "_model_module_version": "1.5.0",
       "_model_name": "HBoxModel",
       "_view_count": null,
       "_view_module": "@jupyter-widgets/controls",
       "_view_module_version": "1.5.0",
       "_view_name": "HBoxView",
       "box_style": "",
       "children": [
        "IPY_MODEL_c390a9c3532b425b8658f0ace7d2e6ac",
        "IPY_MODEL_c420ec0f704e4cb7ab5bfc24668872b8"
       ],
       "layout": "IPY_MODEL_f17dce840c5142f5bb0b036762c033e9"
      }
     },
     "ebcbdc3387584baf9fd268b8b48b2c11": {
      "model_module": "@jupyter-widgets/controls",
      "model_module_version": "1.5.0",
      "model_name": "HTMLModel",
      "state": {
       "_dom_classes": [],
       "_model_module": "@jupyter-widgets/controls",
       "_model_module_version": "1.5.0",
       "_model_name": "HTMLModel",
       "_view_count": null,
       "_view_module": "@jupyter-widgets/controls",
       "_view_module_version": "1.5.0",
       "_view_name": "HTMLView",
       "description": "",
       "description_tooltip": null,
       "layout": "IPY_MODEL_70f1c8f4cb9345488d40fc1724124d04",
       "placeholder": "​",
       "style": "IPY_MODEL_7af43819c6f946fe8f6a0712e0c4bfab",
       "value": " 393656/393656 [00:05&lt;00:00, 76851.72it/s]"
      }
     },
     "f17dce840c5142f5bb0b036762c033e9": {
      "model_module": "@jupyter-widgets/base",
      "model_module_version": "1.2.0",
      "model_name": "LayoutModel",
      "state": {
       "_model_module": "@jupyter-widgets/base",
       "_model_module_version": "1.2.0",
       "_model_name": "LayoutModel",
       "_view_count": null,
       "_view_module": "@jupyter-widgets/base",
       "_view_module_version": "1.2.0",
       "_view_name": "LayoutView",
       "align_content": null,
       "align_items": null,
       "align_self": null,
       "border": null,
       "bottom": null,
       "display": null,
       "flex": null,
       "flex_flow": null,
       "grid_area": null,
       "grid_auto_columns": null,
       "grid_auto_flow": null,
       "grid_auto_rows": null,
       "grid_column": null,
       "grid_gap": null,
       "grid_row": null,
       "grid_template_areas": null,
       "grid_template_columns": null,
       "grid_template_rows": null,
       "height": null,
       "justify_content": null,
       "justify_items": null,
       "left": null,
       "margin": null,
       "max_height": null,
       "max_width": null,
       "min_height": null,
       "min_width": null,
       "object_fit": null,
       "object_position": null,
       "order": null,
       "overflow": null,
       "overflow_x": null,
       "overflow_y": null,
       "padding": null,
       "right": null,
       "top": null,
       "visibility": null,
       "width": null
      }
     },
     "f3cc092263c14fad9c663f71b22d2da5": {
      "model_module": "@jupyter-widgets/controls",
      "model_module_version": "1.5.0",
      "model_name": "HTMLModel",
      "state": {
       "_dom_classes": [],
       "_model_module": "@jupyter-widgets/controls",
       "_model_module_version": "1.5.0",
       "_model_name": "HTMLModel",
       "_view_count": null,
       "_view_module": "@jupyter-widgets/controls",
       "_view_module_version": "1.5.0",
       "_view_name": "HTMLView",
       "description": "",
       "description_tooltip": null,
       "layout": "IPY_MODEL_7a17847f599547a0a05efe90750c6ec5",
       "placeholder": "​",
       "style": "IPY_MODEL_684c45456cb2456db0580368d6719f11",
       "value": " 393656/393656 [00:04&lt;00:00, 89846.38it/s]"
      }
     },
     "fa2b27978de7478791cd176cde823200": {
      "model_module": "@jupyter-widgets/controls",
      "model_module_version": "1.5.0",
      "model_name": "FloatProgressModel",
      "state": {
       "_dom_classes": [],
       "_model_module": "@jupyter-widgets/controls",
       "_model_module_version": "1.5.0",
       "_model_name": "FloatProgressModel",
       "_view_count": null,
       "_view_module": "@jupyter-widgets/controls",
       "_view_module_version": "1.5.0",
       "_view_name": "ProgressView",
       "bar_style": "success",
       "description": "100%",
       "description_tooltip": null,
       "layout": "IPY_MODEL_8508da608e86427dbfec0616693764e0",
       "max": 393656.0,
       "min": 0.0,
       "orientation": "horizontal",
       "style": "IPY_MODEL_bb845cbd7f784e71a95ab12c252439d4",
       "value": 393656.0
      }
     },
     "fa8e3453dd11493187ce146002e523ed": {
      "model_module": "@jupyter-widgets/base",
      "model_module_version": "1.2.0",
      "model_name": "LayoutModel",
      "state": {
       "_model_module": "@jupyter-widgets/base",
       "_model_module_version": "1.2.0",
       "_model_name": "LayoutModel",
       "_view_count": null,
       "_view_module": "@jupyter-widgets/base",
       "_view_module_version": "1.2.0",
       "_view_name": "LayoutView",
       "align_content": null,
       "align_items": null,
       "align_self": null,
       "border": null,
       "bottom": null,
       "display": null,
       "flex": null,
       "flex_flow": null,
       "grid_area": null,
       "grid_auto_columns": null,
       "grid_auto_flow": null,
       "grid_auto_rows": null,
       "grid_column": null,
       "grid_gap": null,
       "grid_row": null,
       "grid_template_areas": null,
       "grid_template_columns": null,
       "grid_template_rows": null,
       "height": null,
       "justify_content": null,
       "justify_items": null,
       "left": null,
       "margin": null,
       "max_height": null,
       "max_width": null,
       "min_height": null,
       "min_width": null,
       "object_fit": null,
       "object_position": null,
       "order": null,
       "overflow": null,
       "overflow_x": null,
       "overflow_y": null,
       "padding": null,
       "right": null,
       "top": null,
       "visibility": null,
       "width": null
      }
     },
     "faf98d0dced9424ab57b2b3f94eef9eb": {
      "model_module": "@jupyter-widgets/controls",
      "model_module_version": "1.5.0",
      "model_name": "HBoxModel",
      "state": {
       "_dom_classes": [],
       "_model_module": "@jupyter-widgets/controls",
       "_model_module_version": "1.5.0",
       "_model_name": "HBoxModel",
       "_view_count": null,
       "_view_module": "@jupyter-widgets/controls",
       "_view_module_version": "1.5.0",
       "_view_name": "HBoxView",
       "box_style": "",
       "children": [
        "IPY_MODEL_535e0a1f473a4032bbe6f1820fc3e810",
        "IPY_MODEL_f3cc092263c14fad9c663f71b22d2da5"
       ],
       "layout": "IPY_MODEL_fa8e3453dd11493187ce146002e523ed"
      }
     },
     "fb36cd687aad4148b1297712611ee1ce": {
      "model_module": "@jupyter-widgets/controls",
      "model_module_version": "1.5.0",
      "model_name": "DescriptionStyleModel",
      "state": {
       "_model_module": "@jupyter-widgets/controls",
       "_model_module_version": "1.5.0",
       "_model_name": "DescriptionStyleModel",
       "_view_count": null,
       "_view_module": "@jupyter-widgets/base",
       "_view_module_version": "1.2.0",
       "_view_name": "StyleView",
       "description_width": ""
      }
     },
     "fbce0319fc8c41a284148641d8b524c6": {
      "model_module": "@jupyter-widgets/controls",
      "model_module_version": "1.5.0",
      "model_name": "DescriptionStyleModel",
      "state": {
       "_model_module": "@jupyter-widgets/controls",
       "_model_module_version": "1.5.0",
       "_model_name": "DescriptionStyleModel",
       "_view_count": null,
       "_view_module": "@jupyter-widgets/base",
       "_view_module_version": "1.2.0",
       "_view_name": "StyleView",
       "description_width": ""
      }
     },
     "fd477e10ea024db6b099c10c7ac0deb1": {
      "model_module": "@jupyter-widgets/base",
      "model_module_version": "1.2.0",
      "model_name": "LayoutModel",
      "state": {
       "_model_module": "@jupyter-widgets/base",
       "_model_module_version": "1.2.0",
       "_model_name": "LayoutModel",
       "_view_count": null,
       "_view_module": "@jupyter-widgets/base",
       "_view_module_version": "1.2.0",
       "_view_name": "LayoutView",
       "align_content": null,
       "align_items": null,
       "align_self": null,
       "border": null,
       "bottom": null,
       "display": null,
       "flex": null,
       "flex_flow": null,
       "grid_area": null,
       "grid_auto_columns": null,
       "grid_auto_flow": null,
       "grid_auto_rows": null,
       "grid_column": null,
       "grid_gap": null,
       "grid_row": null,
       "grid_template_areas": null,
       "grid_template_columns": null,
       "grid_template_rows": null,
       "height": null,
       "justify_content": null,
       "justify_items": null,
       "left": null,
       "margin": null,
       "max_height": null,
       "max_width": null,
       "min_height": null,
       "min_width": null,
       "object_fit": null,
       "object_position": null,
       "order": null,
       "overflow": null,
       "overflow_x": null,
       "overflow_y": null,
       "padding": null,
       "right": null,
       "top": null,
       "visibility": null,
       "width": null
      }
     },
     "ff2d3b8d8f9a4cf484940d1a20e79757": {
      "model_module": "@jupyter-widgets/base",
      "model_module_version": "1.2.0",
      "model_name": "LayoutModel",
      "state": {
       "_model_module": "@jupyter-widgets/base",
       "_model_module_version": "1.2.0",
       "_model_name": "LayoutModel",
       "_view_count": null,
       "_view_module": "@jupyter-widgets/base",
       "_view_module_version": "1.2.0",
       "_view_name": "LayoutView",
       "align_content": null,
       "align_items": null,
       "align_self": null,
       "border": null,
       "bottom": null,
       "display": null,
       "flex": null,
       "flex_flow": null,
       "grid_area": null,
       "grid_auto_columns": null,
       "grid_auto_flow": null,
       "grid_auto_rows": null,
       "grid_column": null,
       "grid_gap": null,
       "grid_row": null,
       "grid_template_areas": null,
       "grid_template_columns": null,
       "grid_template_rows": null,
       "height": null,
       "justify_content": null,
       "justify_items": null,
       "left": null,
       "margin": null,
       "max_height": null,
       "max_width": null,
       "min_height": null,
       "min_width": null,
       "object_fit": null,
       "object_position": null,
       "order": null,
       "overflow": null,
       "overflow_x": null,
       "overflow_y": null,
       "padding": null,
       "right": null,
       "top": null,
       "visibility": null,
       "width": null
      }
     },
     "fffa466f2b4841f59fd8c9062669becd": {
      "model_module": "@jupyter-widgets/controls",
      "model_module_version": "1.5.0",
      "model_name": "ProgressStyleModel",
      "state": {
       "_model_module": "@jupyter-widgets/controls",
       "_model_module_version": "1.5.0",
       "_model_name": "ProgressStyleModel",
       "_view_count": null,
       "_view_module": "@jupyter-widgets/base",
       "_view_module_version": "1.2.0",
       "_view_name": "StyleView",
       "bar_color": null,
       "description_width": "initial"
      }
     }
    },
    "version_major": 2,
    "version_minor": 0
   }
  }
 },
 "nbformat": 4,
 "nbformat_minor": 4
}
